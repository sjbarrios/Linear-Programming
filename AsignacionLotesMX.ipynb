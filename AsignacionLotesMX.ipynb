{
  "cells": [
    {
      "cell_type": "markdown",
      "metadata": {
        "id": "qKzeG1FFoifg"
      },
      "source": [
        "# Formulación del Problema de Asignación de Lotes de Caña a Ingenios\n",
        "\n",
        "Considere un conjunto de 10 lotes, que pueden ser cosechados y molidos en uno de dos Ingenios: Pánuco o El Mante.\n",
        "\n",
        "***A dónde deben transportarse para poder maximizar la cantidad de azúcar producida?***\n",
        "\n",
        "## Ejemplo de Datos\n",
        "\n",
        "Se realizó un muestreo a distintos lotes de productores de caña en las cercanías de ambos ingenios, para obtener una estimación del rendimiento de azúcar. Así mismo, cual es el costo estimado de entregar la caña en un ingenio versus el otro. Los datos se resumen a continuación:\n"
      ]
    },
    {
      "cell_type": "code",
      "execution_count": 1,
      "metadata": {},
      "outputs": [],
      "source": [
        "# librerías\n",
        "import numpy as np\n",
        "import pandas as pd"
      ]
    },
    {
      "cell_type": "code",
      "execution_count": 2,
      "metadata": {},
      "outputs": [],
      "source": [
        "df = pd.read_csv('lotes.csv')"
      ]
    },
    {
      "cell_type": "markdown",
      "metadata": {},
      "source": [
        "\n",
        "\n",
        "\n",
        "## Descripción del Problema\n",
        "\n",
        "Determine una asignación que asegure que cada lote sea molido en alguno de los Ingenios El Mante o Pánuco, y que cada lote se asigne a lo más a un Ingenio para *maximizar* la cantidad de azúcar total para el grupo.\n",
        "\n",
        "## Variables de Decisión\n",
        "\n",
        "Se define la variable de decisión $x_{l,\\; j} = 1$ que representa que el lote $l$ es asignado al Ingenio $j$, y 0 en otro caso, para todos los lotes $l=1,2,...,10$ y los Ingenios $𝑗=1,2$, en donde $j=1$ para Ingenio El Mante y $j=2$ para Ingenio Pánuco.\n",
        "\n",
        "## Restricciones\n",
        "\n",
        "### Restricciones sobre Lotes\n",
        "\n",
        "\n",
        "Para cada lote $l=1,2,...,10$, exactamente un Ingenio $𝑗=1,2$ puede ser asignado.\n",
        "\n",
        "\n",
        "Restricción (Lote=1): $\\sum_{j=1}^{2} x_{1,\\; j} = 1, \\forall j \\in \\{1,2\\}$\n",
        "\n",
        "Restricción (Lote=2): $\\sum_{j=1}^{2} x_{2,\\; j} = 1, \\forall j \\in \\{1,2\\}$\n",
        "\n",
        "$\\vdots$\n",
        "\n",
        "Restricción (Lote=10): $\\sum_{j=1}^{2} x_{10,\\; j} = 1, \\forall j \\in \\{1,2\\}$\n",
        "\n",
        "Y finalmente,\n",
        "$x_{l,j} \\in \\{0,1\\}, \\forall l \\in \\{1,2,...,10\\} , \\forall j \\in \\{1,2\\}$\n",
        "\n",
        "## Parámetros\n",
        "- Sea $Marginal_j$ el beneficio marginal (USD) de la tonelada de azúcar en el ingenio $j$\n",
        "- Sea $Recuperacion_j$ la recuperación global industrial (%) del ingenio $j$\n",
        "- Sea $Precio_{l,j}$ el precio de CAT por tonelada de caña del lote $l$ hacia el ingenio $j$\n",
        "\n",
        "\n",
        "\n",
        "## Función Objetivo\n",
        "\n",
        "Se formula una función objetivo para *maximizar* el beneficio económico total de las asignaciones de lotes mientras se satisfacen las restricciones de lotes.\n",
        "\n",
        "$\\begin{align}\n",
        "\\max\\limits_{\\forall j \\in \\{1,2\\}, \\forall l \\in \\{1,2,...,10\\}} \\sum_{l=1}^{10} \\sum_{j=1}^{2} (\\dfrac{Caña_l * Core_j}{1000} * Recuperacion_j * Marginal_j - Precio_{l,j} * Caña_l) x_{l,j}\n",
        "\\end{align}$\n"
      ]
    },
    {
      "cell_type": "code",
      "execution_count": 3,
      "metadata": {
        "id": "mra9lKgioifi"
      },
      "outputs": [],
      "source": [
        "# Gurobi\n",
        "from gurobipy import *"
      ]
    },
    {
      "cell_type": "markdown",
      "metadata": {
        "id": "B_cFq4_Moifj"
      },
      "source": [
        "## Datos\n",
        "En una lista 'J' se colectan los nombres de los Ingenios: Mante y Panuco.\n",
        "\n",
        "En una lista 'L' se colectan los identificadores de los lotes disponibles: {1,2,...,10}.\n",
        "\n",
        "\n",
        "**Notación Matemática**\n",
        "\n",
        "$l \\in L$ significa que un lote con índice $l$ está en el conjunto (lista) 'L'.\n",
        "\n",
        "$j \\in J$ significa que un Ingenio con índice $j$ está en el conjunto (lista) 'J'."
      ]
    },
    {
      "cell_type": "code",
      "execution_count": 4,
      "metadata": {
        "id": "4JV5uTk9oifj"
      },
      "outputs": [],
      "source": [
        "# conjuntos de lotes e Ingenios\n",
        "J = ['Mante', 'Panuco']\n",
        "L = ['Lote 1','Lote 2','Lote 3','Lote 4','Lote 5','Lote 6','Lote 7','Lote 8','Lote 9','Lote 10']"
      ]
    },
    {
      "cell_type": "code",
      "execution_count": 5,
      "metadata": {},
      "outputs": [
        {
          "data": {
            "text/html": [
              "<div>\n",
              "<style scoped>\n",
              "    .dataframe tbody tr th:only-of-type {\n",
              "        vertical-align: middle;\n",
              "    }\n",
              "\n",
              "    .dataframe tbody tr th {\n",
              "        vertical-align: top;\n",
              "    }\n",
              "\n",
              "    .dataframe thead th {\n",
              "        text-align: right;\n",
              "    }\n",
              "</style>\n",
              "<table border=\"1\" class=\"dataframe\">\n",
              "  <thead>\n",
              "    <tr style=\"text-align: right;\">\n",
              "      <th></th>\n",
              "      <th>Lote</th>\n",
              "      <th>Caña (t)</th>\n",
              "      <th>Core (kg/t)</th>\n",
              "      <th>Precio Mante ($/t)</th>\n",
              "      <th>Precio Panuco ($/t)</th>\n",
              "    </tr>\n",
              "  </thead>\n",
              "  <tbody>\n",
              "    <tr>\n",
              "      <th>0</th>\n",
              "      <td>1</td>\n",
              "      <td>300</td>\n",
              "      <td>105</td>\n",
              "      <td>20</td>\n",
              "      <td>18</td>\n",
              "    </tr>\n",
              "    <tr>\n",
              "      <th>1</th>\n",
              "      <td>2</td>\n",
              "      <td>250</td>\n",
              "      <td>130</td>\n",
              "      <td>22</td>\n",
              "      <td>30</td>\n",
              "    </tr>\n",
              "    <tr>\n",
              "      <th>2</th>\n",
              "      <td>3</td>\n",
              "      <td>500</td>\n",
              "      <td>120</td>\n",
              "      <td>21</td>\n",
              "      <td>13</td>\n",
              "    </tr>\n",
              "    <tr>\n",
              "      <th>3</th>\n",
              "      <td>4</td>\n",
              "      <td>120</td>\n",
              "      <td>115</td>\n",
              "      <td>30</td>\n",
              "      <td>22</td>\n",
              "    </tr>\n",
              "    <tr>\n",
              "      <th>4</th>\n",
              "      <td>5</td>\n",
              "      <td>130</td>\n",
              "      <td>98</td>\n",
              "      <td>35</td>\n",
              "      <td>10</td>\n",
              "    </tr>\n",
              "    <tr>\n",
              "      <th>5</th>\n",
              "      <td>6</td>\n",
              "      <td>180</td>\n",
              "      <td>135</td>\n",
              "      <td>18</td>\n",
              "      <td>40</td>\n",
              "    </tr>\n",
              "    <tr>\n",
              "      <th>6</th>\n",
              "      <td>7</td>\n",
              "      <td>340</td>\n",
              "      <td>100</td>\n",
              "      <td>15</td>\n",
              "      <td>5</td>\n",
              "    </tr>\n",
              "    <tr>\n",
              "      <th>7</th>\n",
              "      <td>8</td>\n",
              "      <td>230</td>\n",
              "      <td>110</td>\n",
              "      <td>40</td>\n",
              "      <td>32</td>\n",
              "    </tr>\n",
              "    <tr>\n",
              "      <th>8</th>\n",
              "      <td>9</td>\n",
              "      <td>80</td>\n",
              "      <td>115</td>\n",
              "      <td>34</td>\n",
              "      <td>22</td>\n",
              "    </tr>\n",
              "    <tr>\n",
              "      <th>9</th>\n",
              "      <td>10</td>\n",
              "      <td>100</td>\n",
              "      <td>138</td>\n",
              "      <td>22</td>\n",
              "      <td>18</td>\n",
              "    </tr>\n",
              "  </tbody>\n",
              "</table>\n",
              "</div>"
            ],
            "text/plain": [
              "   Lote  Caña (t)  Core (kg/t)  Precio Mante ($/t)  Precio Panuco ($/t)\n",
              "0     1       300          105                  20                   18\n",
              "1     2       250          130                  22                   30\n",
              "2     3       500          120                  21                   13\n",
              "3     4       120          115                  30                   22\n",
              "4     5       130           98                  35                   10\n",
              "5     6       180          135                  18                   40\n",
              "6     7       340          100                  15                    5\n",
              "7     8       230          110                  40                   32\n",
              "8     9        80          115                  34                   22\n",
              "9    10       100          138                  22                   18"
            ]
          },
          "execution_count": 5,
          "metadata": {},
          "output_type": "execute_result"
        }
      ],
      "source": [
        "# archivo de datos\n",
        "df"
      ]
    },
    {
      "cell_type": "code",
      "execution_count": 6,
      "metadata": {},
      "outputs": [],
      "source": [
        "# beneficio marginal por tonelada de azúcar\n",
        "marginal = 390\n",
        "recuperacion_1 = 0.77\n",
        "recuperacion_2 = 0.82\n",
        "\n",
        "# revenue\n",
        "df_mante = df.iloc[:,:4]\n",
        "df_mante['revenue'] = df['Caña (t)']*df['Core (kg/t)']*marginal*recuperacion_1/1000 - df_mante['Precio Mante ($/t)']*df_mante['Caña (t)']\n",
        "df_panuco = df.drop('Precio Mante ($/t)',axis=1)\n",
        "df_panuco['revenue'] = df['Caña (t)']*df['Core (kg/t)']*marginal*recuperacion_2/1000 - df_panuco['Precio Panuco ($/t)']*df_panuco['Caña (t)']"
      ]
    },
    {
      "cell_type": "markdown",
      "metadata": {},
      "source": [
        "### Diccionarios de Posibles Asignaciones"
      ]
    },
    {
      "cell_type": "code",
      "execution_count": 7,
      "metadata": {
        "id": "iCCMUJ0Uoifk"
      },
      "outputs": [],
      "source": [
        "# tabla de puntuaciones y costos por recurso y posición\n",
        "combinations, caña, core, precio, revenue = multidict({\n",
        "    ('Lote 1', 'Mante'): df_mante.iloc[0,1:].values,\n",
        "    ('Lote 1', 'Panuco'): df_panuco.iloc[0,1:].values,\n",
        "    ('Lote 2', 'Mante'): df_mante.iloc[1,1:].values,\n",
        "    ('Lote 2', 'Panuco'): df_panuco.iloc[1,1:].values,\n",
        "    ('Lote 3', 'Mante'): df_mante.iloc[2,1:].values,\n",
        "    ('Lote 3', 'Panuco'): df_panuco.iloc[2,1:].values,\n",
        "    ('Lote 4', 'Mante'): df_mante.iloc[3,1:].values,\n",
        "    ('Lote 4', 'Panuco'): df_panuco.iloc[3,1:].values,\n",
        "    ('Lote 5', 'Mante'): df_mante.iloc[4,1:].values,\n",
        "    ('Lote 5', 'Panuco'): df_panuco.iloc[4,1:].values,\n",
        "    ('Lote 6', 'Mante'): df_mante.iloc[5,1:].values,\n",
        "    ('Lote 6', 'Panuco'): df_panuco.iloc[5,1:].values,\n",
        "    ('Lote 7', 'Mante'): df_mante.iloc[6,1:].values,\n",
        "    ('Lote 7', 'Panuco'): df_panuco.iloc[6,1:].values,\n",
        "    ('Lote 8', 'Mante'): df_mante.iloc[7,1:].values,\n",
        "    ('Lote 8', 'Panuco'): df_panuco.iloc[7,1:].values,\n",
        "    ('Lote 9', 'Mante'): df_mante.iloc[8,1:].values,\n",
        "    ('Lote 9', 'Panuco'): df_panuco.iloc[8,1:].values,\n",
        "    ('Lote 10', 'Mante'): df_mante.iloc[9,1:].values,\n",
        "    ('Lote 10', 'Panuco'): df_panuco.iloc[9,1:].values\n",
        "})\n"
      ]
    },
    {
      "cell_type": "markdown",
      "metadata": {
        "id": "kCOXBvZBoifk"
      },
      "source": [
        "La siguiente función genera un objeto modelo vacío \"m\" y toma como argumento el nombre 'LAP' (Lot Assignment Problem)"
      ]
    },
    {
      "cell_type": "code",
      "execution_count": 8,
      "metadata": {
        "id": "o4PwujEmoifk"
      },
      "outputs": [
        {
          "name": "stdout",
          "output_type": "stream",
          "text": [
            "Set parameter Username\n"
          ]
        }
      ],
      "source": [
        "# Se declara e inicializa el modelo\n",
        "m = Model('LAP')"
      ]
    },
    {
      "cell_type": "markdown",
      "metadata": {
        "id": "t4-zpaYtoifl"
      },
      "source": [
        "## Variables de Decisión\n",
        "\n",
        "La variable de decisión $x_{l,\\; j} = 1$ representa que el lote $l$ es asignado al Ingenio $j$, y 0 en otro caso, para $l=1,2,...,10$ Y $𝑗=1,2$.\n",
        "\n",
        "El método “addVars()” define las variables de decisión del objeto modelo \"m\".\n",
        "\n",
        "**Notación Matemática**\n",
        "\n",
        "Sea $x_{l,\\; j} = 1$ si el lote $l \\in L$  se asigna al Ingenio $j \\in J$, y cero en otro caso.\n",
        "\n",
        "Sea $g_{l} = 1$ si el lote $l \\in L$ no puede ser asignado, y cero en otro caso. Esta variable es una variable \"gap\" que indica que un lote no puede ser asignado a algún Ingenio.\n"
      ]
    },
    {
      "cell_type": "code",
      "execution_count": 9,
      "metadata": {
        "id": "OkwtTETuoifl"
      },
      "outputs": [],
      "source": [
        "# Crear las variables de decisión para el modelo LAP\n",
        "x = m.addVars(combinations, vtype=GRB.BINARY, name=\"assign\")\n",
        "\n",
        "# Crear las variables \"gap\" del modelo LAP\n",
        "g = m.addVars(L, name=\"gap\")"
      ]
    },
    {
      "cell_type": "markdown",
      "metadata": {
        "id": "BqPvguaKoifl"
      },
      "source": [
        "## Resticciones de posición\n",
        "\n",
        "Para cada lote $l=1,2,...,10$, exactamente un Ingenio de $j=1,2$ debe ser asignado.\n",
        "\n",
        "**Notación matemática**\n",
        "\n",
        "Restricción (Lote=$l$): \n",
        "$$\\sum_{j=1}^{2} x_{l,\\; j} + g_{l} = 1, \\forall j \\in \\{1,2\\} , \\forall l \\in \\{1,2,...,10\\}$$\n",
        "\n",
        "El método “addConstrs()” define las restricciones del objeto modelo \"m\"."
      ]
    },
    {
      "cell_type": "code",
      "execution_count": 10,
      "metadata": {
        "id": "3eoN3LvZoifm"
      },
      "outputs": [],
      "source": [
        "# crear resticciones de posición\n",
        "lotes = m.addConstrs((x.sum(l,'*') + g[l]  == 1 for l in L), 'lote')"
      ]
    },
    {
      "cell_type": "markdown",
      "metadata": {
        "id": "AcbBDmR0oifn"
      },
      "source": [
        "## Función Objetivo\n",
        "\n",
        "La función objetivo se plantea para maximizar el revenue derivado de todas las asignaciones de lotes a Ingenios.\n",
        "\n",
        "**Notación matemática**\n",
        "\n",
        "$\\begin{align}\n",
        "\\max\\limits_{\\forall j \\in \\{1,2\\}, \\forall l \\in \\{1,2,...,10\\}} \\sum_{l=1}^{10} \\sum_{j=1}^{2} (\\dfrac{Caña_l * Core_j}{1000} * Recuperacion_j * Marginal_j - Precio_{l,j} * Caña_l) x_{l,j}\n",
        "\\end{align}$\n",
        "\n",
        "El método “setObjective()” define la función objetivo del objeto modelo \"m\"."
      ]
    },
    {
      "cell_type": "code",
      "execution_count": 11,
      "metadata": {
        "id": "_C0-D4ugoifn"
      },
      "outputs": [],
      "source": [
        "# Penalización por no asignar algún lote\n",
        "BIGM =101\n",
        "\n",
        "# El objetivo es maximizar el revenue total de las asignaciones de lotes a Ingenios\n",
        "m.setObjective(x.prod(revenue) - BIGM*g.sum(), GRB.MAXIMIZE)"
      ]
    },
    {
      "cell_type": "code",
      "execution_count": 12,
      "metadata": {
        "colab": {
          "base_uri": "https://localhost:8080/"
        },
        "id": "yskPjXCvoifo",
        "outputId": "8370d61f-ce5b-4429-9e3e-9497d578b2f1"
      },
      "outputs": [
        {
          "name": "stdout",
          "output_type": "stream",
          "text": [
            "Warning: variable name \"assign[Lote 1,Mante]\" has a space\n",
            "Warning: constraint name \"lote[Lote 1]\" has a space\n",
            "Warning: to let Gurobi read it back, use rlp format\n",
            "Maximize\n",
            "3459.4500000000007 assign[Lote 1,Mante] + 4673.700000000001 assign[Lote 1,Panuco]\n",
            "+ 4259.75 assign[Lote 2,Mante] + 2893.5 assign[Lote 2,Panuco]\n",
            "+ 7518.0 assign[Lote 3,Mante] + 12688.0 assign[Lote 3,Panuco]\n",
            "+ 544.1400000000003 assign[Lote 4,Mante] + 1773.2399999999998 assign[Lote 4,Panuco] +\n",
            "-724.1779999999999 assign[Lote 5,Mante] + 2774.2519999999995 assign[Lote 5,Panuco]\n",
            "+ 4057.29 assign[Lote 6,Mante] + 571.1400000000003 assign[Lote 6,Panuco]\n",
            "+ 5110.200000000001 assign[Lote 7,Mante] + 9173.2 assign[Lote 7,Panuco] +\n",
            "-1602.4099999999999 assign[Lote 8,Mante] + 730.9399999999987 assign[Lote 8,Panuco]\n",
            "+ 42.76000000000022 assign[Lote 9,Mante] + 1182.1599999999999 assign[Lote 9,Panuco]\n",
            "+ 1944.1400000000003 assign[Lote 10,Mante] + 2613.24 assign[Lote 10,Panuco] +\n",
            "-101.0 gap[Lote 1] + -101.0 gap[Lote 2] + -101.0 gap[Lote 3] + -101.0 gap[Lote 4] +\n",
            "-101.0 gap[Lote 5] + -101.0 gap[Lote 6] + -101.0 gap[Lote 7] + -101.0 gap[Lote 8] +\n",
            "-101.0 gap[Lote 9] + -101.0 gap[Lote 10]\n",
            "Subject To\n",
            "  lote[Lote 1]: assign[Lote 1,Mante] + assign[Lote 1,Panuco] + gap[Lote 1] = 1\n",
            "  lote[Lote 2]: assign[Lote 2,Mante] + assign[Lote 2,Panuco] + gap[Lote 2] = 1\n",
            "  lote[Lote 3]: assign[Lote 3,Mante] + assign[Lote 3,Panuco] + gap[Lote 3] = 1\n",
            "  lote[Lote 4]: assign[Lote 4,Mante] + assign[Lote 4,Panuco] + gap[Lote 4] = 1\n",
            "  lote[Lote 5]: assign[Lote 5,Mante] + assign[Lote 5,Panuco] + gap[Lote 5] = 1\n",
            "  lote[Lote 6]: assign[Lote 6,Mante] + assign[Lote 6,Panuco] + gap[Lote 6] = 1\n",
            "  lote[Lote 7]: assign[Lote 7,Mante] + assign[Lote 7,Panuco] + gap[Lote 7] = 1\n",
            "  lote[Lote 8]: assign[Lote 8,Mante] + assign[Lote 8,Panuco] + gap[Lote 8] = 1\n",
            "  lote[Lote 9]: assign[Lote 9,Mante] + assign[Lote 9,Panuco] + gap[Lote 9] = 1\n",
            "  lote[Lote 10]: assign[Lote 10,Mante] + assign[Lote 10,Panuco] + gap[Lote 10] = 1\n",
            "Binaries\n",
            "['assign[Lote 1,Mante]', 'assign[Lote 1,Panuco]', 'assign[Lote 2,Mante]', 'assign[Lote\n",
            "2,Panuco]', 'assign[Lote 3,Mante]', 'assign[Lote 3,Panuco]', 'assign[Lote 4,Mante]',\n",
            "'assign[Lote 4,Panuco]', 'assign[Lote 5,Mante]', 'assign[Lote 5,Panuco]', 'assign[Lote\n",
            "6,Mante]', 'assign[Lote 6,Panuco]', 'assign[Lote 7,Mante]', 'assign[Lote 7,Panuco]',\n",
            "'assign[Lote 8,Mante]', 'assign[Lote 8,Panuco]', 'assign[Lote 9,Mante]', 'assign[Lote\n",
            " 9,Panuco]', 'assign[Lote 10,Mante]', 'assign[Lote 10,Panuco]']\n"
          ]
        }
      ],
      "source": [
        "# guardado del modelo para inspección\n",
        "m.write('LAP.lp')\n",
        "m.display()"
      ]
    },
    {
      "cell_type": "markdown",
      "metadata": {},
      "source": [
        "### Optimización"
      ]
    },
    {
      "cell_type": "code",
      "execution_count": 13,
      "metadata": {
        "colab": {
          "base_uri": "https://localhost:8080/"
        },
        "id": "6oD3bE-roifo",
        "outputId": "01368d58-b888-442e-d7c3-d9c6da19ea5e",
        "scrolled": false
      },
      "outputs": [
        {
          "name": "stdout",
          "output_type": "stream",
          "text": [
            "Gurobi Optimizer version 10.0.2 build v10.0.2rc0 (mac64[arm])\n",
            "\n",
            "CPU model: Apple M2 Max\n",
            "Thread count: 12 physical cores, 12 logical processors, using up to 12 threads\n",
            "\n",
            "Optimize a model with 10 rows, 30 columns and 30 nonzeros\n",
            "Model fingerprint: 0xa81ddb18\n",
            "Variable types: 10 continuous, 20 integer (20 binary)\n",
            "Coefficient statistics:\n",
            "  Matrix range     [1e+00, 1e+00]\n",
            "  Objective range  [4e+01, 1e+04]\n",
            "  Bounds range     [1e+00, 1e+00]\n",
            "  RHS range        [1e+00, 1e+00]\n",
            "Found heuristic solution: objective 24609.142000\n",
            "Presolve removed 10 rows and 30 columns\n",
            "Presolve time: 0.00s\n",
            "Presolve: All rows and columns removed\n",
            "\n",
            "Explored 0 nodes (0 simplex iterations) in 0.00 seconds (0.00 work units)\n",
            "Thread count was 1 (of 12 available processors)\n",
            "\n",
            "Solution count 2: 43925.8 24609.1 \n",
            "\n",
            "Optimal solution found (tolerance 1.00e-04)\n",
            "Best objective 4.392577200000e+04, best bound 4.392577200000e+04, gap 0.0000%\n"
          ]
        }
      ],
      "source": [
        "# correr el motor de optimización\n",
        "m.optimize()"
      ]
    },
    {
      "cell_type": "code",
      "execution_count": 14,
      "metadata": {
        "colab": {
          "base_uri": "https://localhost:8080/"
        },
        "id": "O_rgP_Kqoifo",
        "outputId": "d3020104-b12a-4b25-e494-d2eea8d1dc8e"
      },
      "outputs": [
        {
          "name": "stdout",
          "output_type": "stream",
          "text": [
            "assign[Lote 1,Panuco] 1.0\n",
            "assign[Lote 2,Mante] 1.0\n",
            "assign[Lote 3,Panuco] 1.0\n",
            "assign[Lote 4,Panuco] 1.0\n",
            "assign[Lote 5,Panuco] 1.0\n",
            "assign[Lote 6,Mante] 1.0\n",
            "assign[Lote 7,Panuco] 1.0\n",
            "assign[Lote 8,Panuco] 1.0\n",
            "assign[Lote 9,Panuco] 1.0\n",
            "assign[Lote 10,Panuco] 1.0\n",
            "Valor óptimo de la función objetivo: 43925.77\n",
            "Revenue total logrado:  43925.77\n"
          ]
        }
      ],
      "source": [
        "# despliegue de las variables de decisión que lograron un valor óptimo\n",
        "for v in m.getVars():\n",
        "\tif (abs(v.x) > 1e-6):\n",
        "\t\tprint(v.varName, v.x)\n",
        "\n",
        "# desplegar el revenue total alcanzado\n",
        "print('Valor óptimo de la función objetivo:', round(m.objVal,2))\n",
        "\n",
        "# Calculo del revenue total basado en las variables de asignación\n",
        "total_revenue = 0\n",
        "for [r, j] in combinations:\n",
        "    if (abs(x[r, j].x) > 1e-6):\n",
        "        total_revenue = total_revenue + revenue[r, j]*x[r, j].x\n",
        "\n",
        "print('Revenue total logrado: ', round(total_revenue,2))\n"
      ]
    }
  ],
  "metadata": {
    "colab": {
      "provenance": []
    },
    "kernelspec": {
      "display_name": "Python 3",
      "language": "python",
      "name": "python3"
    },
    "language_info": {
      "codemirror_mode": {
        "name": "ipython",
        "version": 3
      },
      "file_extension": ".py",
      "mimetype": "text/x-python",
      "name": "python",
      "nbconvert_exporter": "python",
      "pygments_lexer": "ipython3",
      "version": "3.9.16"
    }
  },
  "nbformat": 4,
  "nbformat_minor": 0
}

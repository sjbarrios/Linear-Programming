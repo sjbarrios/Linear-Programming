{
 "cells": [
  {
   "cell_type": "markdown",
   "metadata": {},
   "source": [
    "## Mezcla Combustible Calderas\n",
    "\n",
    "Pantaleon posee una planta generadora de energía de turbinas de vapor.\n",
    "\n",
    "La planta genera su vapor con carbón. Esto, sin embargo, puede conducir a emisiones que no satisfagan las normas ambientales. \n",
    "\n",
    "Las normas ambientales limitan la descarga de bióxido de azufre a 2000 partes por millón por tonelada de carbón quemado, y la descarga de humo por las chimeneas de la planta a 20 lb por hora. \n",
    "\n",
    "Pantaleon recibe dos tipos de carbón pulverizado, C1 y C2, para usarlos en la planta de vapor. Los dos tipos se suelen mezclar antes de la combustión. Por simplicidad, se supone que la cantidad de azufre contaminante descargado (en partes por millón) es un promedio ponderado de la proporción de cada tipo utilizado en la mezcla. \n",
    "\n",
    "Los siguientes datos se basan en el consumo de 1 tonelada por hora de cada uno de los dos tipos de carbón.\n",
    "\n",
    "| Tipo de carbón | Descarga de azufre en ppm | Descarga de humo en lb/h | Vapor generado en lb por hora |\n",
    "|:--------:|:--------:|:--------:|:--------:|\n",
    "|  C1   |  1800  |  2.1   |  12000  |\n",
    "|  C2   |  2100  |  0.9   |  9000   |\n",
    "\n",
    "- Determine la proporción óptima para mezclar los dos tipos de carbón."
   ]
  },
  {
   "cell_type": "code",
   "execution_count": 1,
   "metadata": {},
   "outputs": [],
   "source": [
    "from gurobipy import *"
   ]
  },
  {
   "cell_type": "code",
   "execution_count": 2,
   "metadata": {},
   "outputs": [
    {
     "name": "stdout",
     "output_type": "stream",
     "text": [
      "Set parameter Username\n"
     ]
    }
   ],
   "source": [
    "# crear modelo de optimización\n",
    "w = Model('WEC')"
   ]
  },
  {
   "cell_type": "code",
   "execution_count": 3,
   "metadata": {},
   "outputs": [],
   "source": [
    "# variables de decision\n",
    "x1 = w.addVar(name='C1')\n",
    "x2 = w.addVar(name='C2')"
   ]
  },
  {
   "cell_type": "code",
   "execution_count": 4,
   "metadata": {},
   "outputs": [],
   "source": [
    "# función objetivo\n",
    "w.setObjective(12000*x1+9000*x2,GRB.MAXIMIZE)"
   ]
  },
  {
   "cell_type": "code",
   "execution_count": 5,
   "metadata": {},
   "outputs": [
    {
     "data": {
      "text/plain": [
       "<gurobi.Constr *Awaiting Model Update*>"
      ]
     },
     "execution_count": 5,
     "metadata": {},
     "output_type": "execute_result"
    }
   ],
   "source": [
    "# restricciones\n",
    "w.addConstr(1800*x1 + 2100*x2 <= 2000*(x1 + x2),'azufre')\n",
    "w.addConstr(2.1*x1 + 0.9*x2 <= 20,'humo')"
   ]
  },
  {
   "cell_type": "code",
   "execution_count": 6,
   "metadata": {},
   "outputs": [
    {
     "name": "stdout",
     "output_type": "stream",
     "text": [
      "Maximize\n",
      "  12000.0 C1 + 9000.0 C2\n",
      "Subject To\n",
      "  azufre: -200.0 C1 + 100.0 C2 <= 0\n",
      "  humo: 2.1 C1 + 0.9 C2 <= 20\n"
     ]
    }
   ],
   "source": [
    "# guardar modelo para inspección\n",
    "w.write('WEC.lp')\n",
    "w.display()"
   ]
  },
  {
   "cell_type": "code",
   "execution_count": 7,
   "metadata": {},
   "outputs": [
    {
     "name": "stdout",
     "output_type": "stream",
     "text": [
      "Gurobi Optimizer version 10.0.2 build v10.0.2rc0 (mac64[arm])\n",
      "\n",
      "CPU model: Apple M2 Max\n",
      "Thread count: 12 physical cores, 12 logical processors, using up to 12 threads\n",
      "\n",
      "Optimize a model with 2 rows, 2 columns and 4 nonzeros\n",
      "Model fingerprint: 0x60e505f9\n",
      "Coefficient statistics:\n",
      "  Matrix range     [9e-01, 2e+02]\n",
      "  Objective range  [9e+03, 1e+04]\n",
      "  Bounds range     [0e+00, 0e+00]\n",
      "  RHS range        [2e+01, 2e+01]\n",
      "Presolve removed 2 rows and 2 columns\n",
      "Presolve time: 0.00s\n",
      "Presolve: All rows and columns removed\n",
      "Iteration    Objective       Primal Inf.    Dual Inf.      Time\n",
      "       0    1.5384615e+05   0.000000e+00   0.000000e+00      0s\n",
      "\n",
      "Solved in 0 iterations and 0.01 seconds (0.00 work units)\n",
      "Optimal objective  1.538461538e+05\n"
     ]
    }
   ],
   "source": [
    "# motor de optimización\n",
    "w.optimize()"
   ]
  },
  {
   "cell_type": "code",
   "execution_count": 8,
   "metadata": {},
   "outputs": [
    {
     "name": "stdout",
     "output_type": "stream",
     "text": [
      "C1 5.128205128205128\n",
      "C2 10.256410256410255\n",
      "Utilidad total óptima: 153846.15384615381\n"
     ]
    }
   ],
   "source": [
    "# plan de producción\n",
    "for v in w.getVars():\n",
    "    print(v.varName, v.x)\n",
    "\n",
    "print('Utilidad total óptima:', w.objVal)"
   ]
  },
  {
   "cell_type": "code",
   "execution_count": 9,
   "metadata": {},
   "outputs": [
    {
     "name": "stdout",
     "output_type": "stream",
     "text": [
      "0.4995121951219512\n"
     ]
    }
   ],
   "source": [
    "# Relación Optima\n",
    "rel = 5.12/10.25\n",
    "print(rel)"
   ]
  },
  {
   "cell_type": "markdown",
   "metadata": {},
   "source": [
    "- Determine el efecto de rebajar el límite de descarga de humo en una libra sobre la cantidad de vapor generado por hora."
   ]
  },
  {
   "cell_type": "code",
   "execution_count": 10,
   "metadata": {},
   "outputs": [
    {
     "data": {
      "text/plain": [
       "<gurobi.Constr *Awaiting Model Update*>"
      ]
     },
     "execution_count": 10,
     "metadata": {},
     "output_type": "execute_result"
    }
   ],
   "source": [
    "# crear modelo de optimización\n",
    "w1 = Model('WEC1')\n",
    "\n",
    "# variables de decision\n",
    "x1 = w1.addVar(name='C1')\n",
    "x2 = w1.addVar(name='C2')\n",
    "\n",
    "# función objetivo\n",
    "w1.setObjective(12000*x1+9000*x2,GRB.MAXIMIZE)\n",
    "\n",
    "# restricciones\n",
    "w1.addConstr(1800*x1 + 2100*x2 <= 2000*(x1 + x2),'azufre')\n",
    "w1.addConstr(2.1*x1 + 0.9*x2 <= 19,'humo')"
   ]
  },
  {
   "cell_type": "code",
   "execution_count": 11,
   "metadata": {},
   "outputs": [
    {
     "name": "stdout",
     "output_type": "stream",
     "text": [
      "Gurobi Optimizer version 10.0.2 build v10.0.2rc0 (mac64[arm])\n",
      "\n",
      "CPU model: Apple M2 Max\n",
      "Thread count: 12 physical cores, 12 logical processors, using up to 12 threads\n",
      "\n",
      "Optimize a model with 2 rows, 2 columns and 4 nonzeros\n",
      "Model fingerprint: 0x219fdaee\n",
      "Coefficient statistics:\n",
      "  Matrix range     [9e-01, 2e+02]\n",
      "  Objective range  [9e+03, 1e+04]\n",
      "  Bounds range     [0e+00, 0e+00]\n",
      "  RHS range        [2e+01, 2e+01]\n",
      "Presolve removed 2 rows and 2 columns\n",
      "Presolve time: 0.00s\n",
      "Presolve: All rows and columns removed\n",
      "Iteration    Objective       Primal Inf.    Dual Inf.      Time\n",
      "       0    1.4615385e+05   0.000000e+00   0.000000e+00      0s\n",
      "\n",
      "Solved in 0 iterations and 0.00 seconds (0.00 work units)\n",
      "Optimal objective  1.461538462e+05\n"
     ]
    }
   ],
   "source": [
    "# motor de optimización\n",
    "w1.optimize()"
   ]
  },
  {
   "cell_type": "code",
   "execution_count": 12,
   "metadata": {},
   "outputs": [
    {
     "name": "stdout",
     "output_type": "stream",
     "text": [
      "C1 4.871794871794871\n",
      "C2 9.743589743589743\n",
      "Utilidad total óptima: 146153.84615384613\n"
     ]
    }
   ],
   "source": [
    "# plan de producción\n",
    "for v in w1.getVars():\n",
    "    print(v.varName, v.x)\n",
    "\n",
    "print('Utilidad total óptima:', w1.objVal)"
   ]
  },
  {
   "cell_type": "code",
   "execution_count": 13,
   "metadata": {},
   "outputs": [
    {
     "name": "stdout",
     "output_type": "stream",
     "text": [
      "relación C1/C2: 0.5\n",
      "reducción de vapor generado: 7692.307692307688\n"
     ]
    }
   ],
   "source": [
    "rel = 4.87/9.74\n",
    "print(\"relación C1/C2:\",rel)\n",
    "efecto = w.objVal - w1.objVal\n",
    "print(\"reducción de vapor generado:\",efecto)"
   ]
  }
 ],
 "metadata": {
  "kernelspec": {
   "display_name": "PantaleonDS",
   "language": "python",
   "name": "python3"
  },
  "language_info": {
   "codemirror_mode": {
    "name": "ipython",
    "version": 3
   },
   "file_extension": ".py",
   "mimetype": "text/x-python",
   "name": "python",
   "nbconvert_exporter": "python",
   "pygments_lexer": "ipython3",
   "version": "3.9.16"
  },
  "orig_nbformat": 4
 },
 "nbformat": 4,
 "nbformat_minor": 2
}

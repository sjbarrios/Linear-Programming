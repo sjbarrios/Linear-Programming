{
  "cells": [
    {
      "cell_type": "markdown",
      "metadata": {
        "id": "qKzeG1FFoifg"
      },
      "source": [
        "# Formulación del Problema de Asignación de Recursos\n",
        "\n",
        "Considere tres posiciones a llenar en Pantaleón: Tester, Java-Developer y Architect.\n",
        "\n",
        "Considere tres posibles candidatos, en los que todos conocen las tres disciplinas: Carlos, Joe, y Monika.\n",
        "\n",
        "## Datos\n",
        "\n",
        "Se realizó una evaluación a cada candidato para medir la habilidad para realizar cada uno de estos trabajos. Las notas obtenidas se resumen a continuación:\n",
        "\n",
        "![Resource Allocation Problem Data Image](https://github.com/Gurobi/modeling-examples/blob/master/milp_tutorial/util/rap_data.png?raw=1)\n",
        "\n",
        "\n",
        "**Asunción**: Solamente un recurso puede trabajar en una posición, y solamente una posición puede asignarse a un recurso.\n",
        "\n",
        "## Descripción del Problema\n",
        "\n",
        "Determine una asignación que asegure que cada posición sea llenada, y que cada recurso se asigne a lo más a una posición para *maximizar* la puntuación total de las asignaciones.\n",
        "\n",
        "\n",
        "## Solución Heurística\n",
        "Asignar el candidato con la nota más alta a la posición donde la obtuvo.\n",
        "\n",
        "Es decir:\n",
        "1. Tester -> Joe\n",
        "2. Java-Developer -> Monika\n",
        "3. Architect -> Carlos\n",
        "\n",
        "Nótese que con esta asignación, el punteo total es 80+73+13 = 166\n",
        "\n",
        "Es ésta solución óptima?? Para ello se plantea un problema de optimización.\n",
        "\n",
        "## Variables de Decisión\n",
        "\n",
        "Se define la variable de decisión $x_{r,\\; j} = 1$ que representa que el recurso $r$ es asignado a la posición $j$, y 0 en otro caso, para todos los recursos $r=1,2,3$ y posiciones $𝑗=1,2,3$.\n",
        "\n",
        "## Restricciones\n",
        "\n",
        "### Restricciones de Posición\n",
        "\n",
        "Para cada posición $𝑗=1,2,3,$ exactamente un recurso de $r=1,2,3$ debe ser asignado.\n",
        "\n",
        "Restricción (Tester=1): $x_{1,\\; 1} + x_{2,\\; 1} + x_{3,\\; 1} = 1$\n",
        "\n",
        "Restricción (Java-Developer=2): $x_{1,\\; 2} + x_{2,\\; 2} + x_{3,\\; 2} = 1$\n",
        "\n",
        "Restricción (Architect=3): $x_{1,\\; 3} + x_{2,\\; 3} + x_{3,\\; 3} = 1$\n",
        "\n",
        "### Restricciones de Recursos\n",
        "\n",
        "Para cada recurso $r=1,2,3$, a lo más una posición $𝑗=1,2,3,$ puede ser asignada.\n",
        "\n",
        "Restricción (Carlos=1): $x_{1,\\; 1} + x_{1,\\; 2} + x_{1,\\; 3}  \\leq 1$\n",
        "\n",
        "Restricción (Joe=2): $x_{2,\\; 1} + x_{2,\\; 2} + x_{2,\\; 3}  \\leq 1$\n",
        "\n",
        "Restricción (Monika=3): $x_{2,\\; 1} + x_{2,\\; 2} + x_{2,\\; 3}  \\leq 1$\n",
        "\n",
        "## Función Objetivo\n",
        "\n",
        "Se formula una función objetivo para *maximizar* el total de puntuación de las asignaciones mientras se satisfacen las restricciones de posiciones y recursos.\n",
        "\n",
        "$$\n",
        "\\max \\; (53x_{1,\\; 1} + 80x_{2,\\; 1} + 53x_{3,\\; 1}) + (27x_{1,\\; 2} + 47x_{2,\\; 2} + 73x_{3,\\; 2})\n",
        "+ (13x_{1,\\; 3} + 67x_{2,\\; 3} + 47x_{3,\\; 3})\n",
        "$$\n",
        "\n",
        "\n"
      ]
    },
    {
      "cell_type": "markdown",
      "metadata": {
        "id": "XVuai01uoifh"
      },
      "source": [
        "Instalación de paquetes para Optimización"
      ]
    },
    {
      "cell_type": "code",
      "execution_count": 1,
      "metadata": {
        "id": "hGIjjOtioifh",
        "colab": {
          "base_uri": "https://localhost:8080/"
        },
        "outputId": "6dc4886d-7bd4-4157-e6b0-db32245787c9"
      },
      "outputs": [
        {
          "output_type": "stream",
          "name": "stdout",
          "text": [
            "Collecting gurobipy\n",
            "  Downloading gurobipy-10.0.2-cp310-cp310-manylinux2014_x86_64.whl (12.7 MB)\n",
            "\u001b[2K     \u001b[90m━━━━━━━━━━━━━━━━━━━━━━━━━━━━━━━━━━━━━━━━\u001b[0m \u001b[32m12.7/12.7 MB\u001b[0m \u001b[31m31.8 MB/s\u001b[0m eta \u001b[36m0:00:00\u001b[0m\n",
            "\u001b[?25hInstalling collected packages: gurobipy\n",
            "Successfully installed gurobipy-10.0.2\n",
            "Collecting names\n",
            "  Downloading names-0.3.0.tar.gz (789 kB)\n",
            "\u001b[2K     \u001b[90m━━━━━━━━━━━━━━━━━━━━━━━━━━━━━━━━━━━━━━\u001b[0m \u001b[32m789.1/789.1 kB\u001b[0m \u001b[31m11.9 MB/s\u001b[0m eta \u001b[36m0:00:00\u001b[0m\n",
            "\u001b[?25h  Preparing metadata (setup.py) ... \u001b[?25l\u001b[?25hdone\n",
            "Building wheels for collected packages: names\n",
            "  Building wheel for names (setup.py) ... \u001b[?25l\u001b[?25hdone\n",
            "  Created wheel for names: filename=names-0.3.0-py3-none-any.whl size=803681 sha256=174da0fab808ec7e0509b341922516e1b9b686c21a670eaa699bed449a030cd7\n",
            "  Stored in directory: /root/.cache/pip/wheels/fc/9a/6f/78f4282bbcaa2d8c678b73c54c0bb1b7a04009f0d7cec79fce\n",
            "Successfully built names\n",
            "Installing collected packages: names\n",
            "Successfully installed names-0.3.0\n",
            "Requirement already satisfied: numpy in /usr/local/lib/python3.10/dist-packages (1.23.5)\n"
          ]
        }
      ],
      "source": [
        "%pip install gurobipy\n",
        "%pip install names\n",
        "%pip install numpy"
      ]
    },
    {
      "cell_type": "code",
      "execution_count": 2,
      "metadata": {
        "id": "mra9lKgioifi"
      },
      "outputs": [],
      "source": [
        "# Gurobi\n",
        "from gurobipy import *"
      ]
    },
    {
      "cell_type": "markdown",
      "metadata": {
        "id": "B_cFq4_Moifj"
      },
      "source": [
        "## Datos\n",
        "En una lista 'R' se colectan los nombres de los recursos: Carlos, Joe y Monika.\n",
        "\n",
        "En una lista 'J' se colectan los nombres de las posiciones disponibles: teste, java-developer y architect.\n",
        "\n",
        "\n",
        "**Notación Matemática**\n",
        "\n",
        "$r \\in R$ significa que un recurso con índice $r$ está en el conjunto (lista) 'R'.\n",
        "\n",
        "$j \\in J$ significa que una posición con índice $j$ está en el conjunto (lista) 'J'."
      ]
    },
    {
      "cell_type": "code",
      "execution_count": 3,
      "metadata": {
        "id": "4JV5uTk9oifj"
      },
      "outputs": [],
      "source": [
        "# conjuntos de recursos y posiciones\n",
        "R = ['Carlos', 'Joe', 'Monika']\n",
        "J = ['Tester', 'JavaDeveloper', 'Architect']"
      ]
    },
    {
      "cell_type": "markdown",
      "metadata": {
        "id": "SYgAOqsooifj"
      },
      "source": [
        "La función \"multidict\" describe las puntuaciones para cada trabajo asociadas con cada combinación de un recurso y una posición (tabla de notas obtenidas).\n",
        "\n",
        "\n",
        "**Notación Matemática**\n",
        "\n",
        "Sea $ms_{r,\\;j}$ la nota obtenida del recurso  $r \\in R$  con respecto a la posición  $j \\in J$."
      ]
    },
    {
      "cell_type": "code",
      "execution_count": 5,
      "metadata": {
        "id": "iCCMUJ0Uoifk"
      },
      "outputs": [],
      "source": [
        "# tabla de puntuaciones por recurso y posición\n",
        "combinations, ms = multidict({\n",
        "    ('Carlos', 'Tester'): 53,\n",
        "    ('Carlos', 'JavaDeveloper'): 27,\n",
        "    ('Carlos', 'Architect'): 13,\n",
        "    ('Joe', 'Tester'): 80,\n",
        "    ('Joe', 'JavaDeveloper'): 47,\n",
        "    ('Joe', 'Architect'): 67,\n",
        "    ('Monika', 'Tester'): 53 ,\n",
        "    ('Monika', 'JavaDeveloper'): 73,\n",
        "    ('Monika', 'Architect'): 47\n",
        "})"
      ]
    },
    {
      "cell_type": "markdown",
      "metadata": {
        "id": "kCOXBvZBoifk"
      },
      "source": [
        "La siguiente función genera un objeto modelo vacío \"m\" y toma como argumento el nombre 'RAP' (Resource Assignment Problem)"
      ]
    },
    {
      "cell_type": "code",
      "execution_count": 6,
      "metadata": {
        "id": "o4PwujEmoifk",
        "colab": {
          "base_uri": "https://localhost:8080/"
        },
        "outputId": "ca126676-9d6d-44a5-d083-d4cc1d545408"
      },
      "outputs": [
        {
          "output_type": "stream",
          "name": "stdout",
          "text": [
            "Restricted license - for non-production use only - expires 2024-10-28\n"
          ]
        }
      ],
      "source": [
        "# Se declara e inicializa el modelo\n",
        "m = Model('RAP')"
      ]
    },
    {
      "cell_type": "markdown",
      "metadata": {
        "id": "t4-zpaYtoifl"
      },
      "source": [
        "## Variables de Decisión\n",
        "\n",
        "La variable de decisión $x_{r,\\; j} = 1$ representa que el recurso $r$ es asignado a la posición $j$, y 0 en otro caso, para $r=1,2,3$ Y $𝑗=1,2,3$.\n",
        "\n",
        "El método “addVars()” define las variables de decisión del objeto modelo \"m\".\n",
        "\n",
        "**Notación Matemática**\n",
        "\n",
        "Sea $x_{r,\\; j} = 1$ si el recurso $r \\in R$  se asigna a la posición $j \\in J$, y cero en otro caso.\n",
        "\n",
        "Sea $g_{j} = 1$ si la posición $j \\in J$ no puede ser llenada, y cero en otro caso. Esta variable es una variable \"gap\" que indica que una posición no puede ser llenada.\n"
      ]
    },
    {
      "cell_type": "code",
      "execution_count": 7,
      "metadata": {
        "id": "OkwtTETuoifl"
      },
      "outputs": [],
      "source": [
        "# Crear las variables de decisión para el modelo RAP\n",
        "x = m.addVars(combinations, vtype=GRB.BINARY, name=\"assign\")\n",
        "\n",
        "# Crear las variables \"gap\" del modelo RAP\n",
        "g = m.addVars(J, name=\"gap\")"
      ]
    },
    {
      "cell_type": "markdown",
      "metadata": {
        "id": "BqPvguaKoifl"
      },
      "source": [
        "## Resticciones de posición\n",
        "\n",
        "Para cada posición $𝑗=1,2,3$, exactamente un recurso de $r=1,2,3$ debe ser asignado.\n",
        "\n",
        "Restricción (Tester=1): $x_{1,\\; 1} + x_{2,\\; 1} + x_{3,\\; 1} = 1$\n",
        "\n",
        "Restricción (Java-Developer=2): $x_{1,\\; 2} + x_{2,\\; 2} + x_{3,\\; 2} = 1$\n",
        "\n",
        "Restricción (Architect=3): $x_{1,\\; 3} + x_{2,\\; 3} + x_{3,\\; 3} = 1$\n",
        "\n",
        "El método “addConstrs()” define las restricciones del objeto modelo \"m\".\n",
        "\n",
        "\n",
        "**Notación matemática**\n",
        "\n",
        "Para cada posición $j \\in J$, exactamente un recurso puede ser asignado:\n",
        "\n",
        "$$\n",
        "\\sum_{r \\: \\in \\: R} x_{r,\\; j} + g_{j} = 1\n",
        "$$\n",
        "\n"
      ]
    },
    {
      "cell_type": "code",
      "execution_count": 8,
      "metadata": {
        "id": "3eoN3LvZoifm"
      },
      "outputs": [],
      "source": [
        "# crear resticciones de posición\n",
        "jobs = m.addConstrs((x.sum('*',j) + g[j]  == 1 for j in J), 'job')"
      ]
    },
    {
      "cell_type": "markdown",
      "metadata": {
        "id": "kUh7XFUyoifm"
      },
      "source": [
        "## Restricciones de recursos\n",
        "\n",
        "Para cada recurso $r=1,2,3$ a lo más una posición de $j=1,2,3$ puede asignarse.\n",
        "\n",
        "Restricción (Carlos=1): $x_{1,\\; 1} + x_{1,\\; 2} + x_{1,\\; 3}  \\leq 1$\n",
        "\n",
        "Restricción (Joe=2): $x_{2,\\; 1} + x_{2,\\; 2} + x_{2,\\; 3}  \\leq 1$\n",
        "\n",
        "Restricción (Monika=3): $x_{2,\\; 1} + x_{2,\\; 2} + x_{2,\\; 3}  \\leq 1$\n",
        "\n",
        "El método “addConstrs()” define las restricciones del objeto modelo \"m\".\n",
        "\n",
        "**Notación Matemática**\n",
        "\n",
        "Para cada recurso $r \\in R$, a lo más una posición puede ser asignada:\n",
        "\n",
        "$$\n",
        "\\sum_{j \\: \\in \\: J} x_{r,\\; j} \\leq 1\n",
        "$$"
      ]
    },
    {
      "cell_type": "code",
      "execution_count": 9,
      "metadata": {
        "id": "LmE4XNm-oifm"
      },
      "outputs": [],
      "source": [
        "# crear restricciones de recursos\n",
        "resources = m.addConstrs((x.sum(r,'*') <= 1 for r in R), 'resource')"
      ]
    },
    {
      "cell_type": "markdown",
      "metadata": {
        "id": "AcbBDmR0oifn"
      },
      "source": [
        "## Función Objetivo\n",
        "\n",
        "La función objetivo se plantea para maximizar el punteo total de todas las asignaciones de recursos a posiciones.\n",
        "\n",
        "$$\n",
        "\\max \\; (53x_{1,\\; 1} + 80x_{2,\\; 1} + 53x_{3,\\; 1}) + (27x_{1,\\; 2} + 47x_{2,\\; 2} + 73x_{3,\\; 2})\n",
        "+ (13x_{1,\\; 3} + 67x_{2,\\; 3} + 47x_{3,\\; 3})\n",
        "$$\n",
        "\n",
        "El método “setObjective()” define la función objetivo del objeto modelo \"m\".\n",
        "\n",
        "**Notación matemática**\n",
        "\n",
        "Nótese que:\n",
        "$$\n",
        "(53x_{1,\\; 1} + 80x_{2,\\; 1} + 53x_{3,\\; 1}) = \\sum_{r \\; \\in \\; R} ms_{r,1}x_{r,1} \\\\\n",
        "(27x_{1,\\; 2} + 47x_{2,\\; 2} + 73x_{3,\\; 2}) = \\sum_{r \\; \\in \\; R} ms_{r,2}x_{r,2} \\\\\n",
        "(13x_{1,\\; 3} + 67x_{2,\\; 3} + 47x_{3,\\; 3})  = \\sum_{r \\; \\in \\; R} ms_{r,3}x_{r,3}\n",
        "$$\n",
        "\n",
        "Por lo tanto, la función objetivo puede ser expresada como sigue:\n",
        "\n",
        "$$\n",
        "\\max \\; \\sum_{j \\; \\in \\; J} \\sum_{r \\; \\in \\; R} ms_{r,j}x_{r,j} -BigM \\sum_{j \\in J} g_{j}\n",
        "$$\n"
      ]
    },
    {
      "cell_type": "code",
      "execution_count": 11,
      "metadata": {
        "id": "_C0-D4ugoifn"
      },
      "outputs": [],
      "source": [
        "# Penalización por no llenar una posición\n",
        "BIGM =101\n",
        "\n",
        "# El objetivo es maximizar el punteo total de las asignaciones de recursos a posiciones\n",
        "m.setObjective(x.prod(ms) -BIGM*g.sum(), GRB.MAXIMIZE)"
      ]
    },
    {
      "cell_type": "code",
      "execution_count": 12,
      "metadata": {
        "id": "yskPjXCvoifo",
        "colab": {
          "base_uri": "https://localhost:8080/"
        },
        "outputId": "9d253c1a-a328-49be-bea4-75cc21b20508"
      },
      "outputs": [
        {
          "output_type": "stream",
          "name": "stdout",
          "text": [
            "Maximize\n",
            "53.0 assign[Carlos,Tester] + 27.0 assign[Carlos,JavaDeveloper]\n",
            "+ 13.0 assign[Carlos,Architect] + 80.0 assign[Joe,Tester]\n",
            "+ 47.0 assign[Joe,JavaDeveloper] + 67.0 assign[Joe,Architect]\n",
            "+ 53.0 assign[Monika,Tester] + 73.0 assign[Monika,JavaDeveloper]\n",
            "+ 47.0 assign[Monika,Architect] + -101.0 gap[Tester] + -101.0 gap[JavaDeveloper] +\n",
            "-101.0 gap[Architect]\n",
            "Subject To\n",
            "job[Tester]: assign[Carlos,Tester] + assign[Joe,Tester] + assign[Monika,Tester] +\n",
            " gap[Tester] = 1\n",
            "job[JavaDeveloper]: assign[Carlos,JavaDeveloper] + assign[Joe,JavaDeveloper] +\n",
            " assign[Monika,JavaDeveloper] + gap[JavaDeveloper] = 1\n",
            "job[Architect]: assign[Carlos,Architect] + assign[Joe,Architect] +\n",
            " assign[Monika,Architect] + gap[Architect] = 1\n",
            "resource[Carlos]: assign[Carlos,Tester] + assign[Carlos,JavaDeveloper] +\n",
            " assign[Carlos,Architect] <= 1\n",
            "resource[Joe]: assign[Joe,Tester] + assign[Joe,JavaDeveloper] + assign[Joe,Architect]\n",
            " <= 1\n",
            "resource[Monika]: assign[Monika,Tester] + assign[Monika,JavaDeveloper] +\n",
            " assign[Monika,Architect] <= 1\n",
            "Binaries\n",
            "['assign[Carlos,Tester]', 'assign[Carlos,JavaDeveloper]', 'assign[Carlos,Architect]',\n",
            "'assign[Joe,Tester]', 'assign[Joe,JavaDeveloper]', 'assign[Joe,Architect]',\n",
            " 'assign[Monika,Tester]', 'assign[Monika,JavaDeveloper]', 'assign[Monika,Architect]']\n"
          ]
        }
      ],
      "source": [
        "# save model for inspection\n",
        "m.write('RAP3.lp')\n",
        "m.display()"
      ]
    },
    {
      "cell_type": "code",
      "execution_count": 13,
      "metadata": {
        "scrolled": false,
        "id": "6oD3bE-roifo",
        "outputId": "5631aa3d-0b55-4b3d-f15c-e6d6c52201e9",
        "colab": {
          "base_uri": "https://localhost:8080/"
        }
      },
      "outputs": [
        {
          "output_type": "stream",
          "name": "stdout",
          "text": [
            "Gurobi Optimizer version 10.0.2 build v10.0.2rc0 (linux64)\n",
            "\n",
            "CPU model: AMD EPYC 7B12, instruction set [SSE2|AVX|AVX2]\n",
            "Thread count: 1 physical cores, 2 logical processors, using up to 2 threads\n",
            "\n",
            "Optimize a model with 6 rows, 12 columns and 21 nonzeros\n",
            "Model fingerprint: 0xad09a477\n",
            "Variable types: 3 continuous, 9 integer (9 binary)\n",
            "Coefficient statistics:\n",
            "  Matrix range     [1e+00, 1e+00]\n",
            "  Objective range  [1e+01, 1e+02]\n",
            "  Bounds range     [1e+00, 1e+00]\n",
            "  RHS range        [1e+00, 1e+00]\n",
            "Presolve time: 0.00s\n",
            "Presolved: 6 rows, 12 columns, 21 nonzeros\n",
            "Variable types: 0 continuous, 12 integer (12 binary)\n",
            "Found heuristic solution: objective 193.0000000\n",
            "\n",
            "Root relaxation: cutoff, 0 iterations, 0.00 seconds (0.00 work units)\n",
            "\n",
            "Explored 1 nodes (0 simplex iterations) in 0.04 seconds (0.00 work units)\n",
            "Thread count was 2 (of 2 available processors)\n",
            "\n",
            "Solution count 1: 193 \n",
            "\n",
            "Optimal solution found (tolerance 1.00e-04)\n",
            "Best objective 1.930000000000e+02, best bound 1.930000000000e+02, gap 0.0000%\n"
          ]
        }
      ],
      "source": [
        "# correr el motor de optimización\n",
        "m.optimize()"
      ]
    },
    {
      "cell_type": "code",
      "execution_count": 14,
      "metadata": {
        "id": "O_rgP_Kqoifo",
        "outputId": "222fc627-ea71-48ae-841d-658604706d4c",
        "colab": {
          "base_uri": "https://localhost:8080/"
        }
      },
      "outputs": [
        {
          "output_type": "stream",
          "name": "stdout",
          "text": [
            "assign[Carlos,Tester] 1.0\n",
            "assign[Joe,Architect] 1.0\n",
            "assign[Monika,JavaDeveloper] 1.0\n",
            "Valor óptimo de la función objetivo: 193.0\n",
            "Punteo total logrado:  193.0\n"
          ]
        }
      ],
      "source": [
        "# despliegue de las variables de decisión que lograron un valor óptimo\n",
        "for v in m.getVars():\n",
        "\tif (abs(v.x) > 1e-6):\n",
        "\t\tprint(v.varName, v.x)\n",
        "\n",
        "# desplegar el punteo total alcanzado\n",
        "print('Valor óptimo de la función objetivo:', m.objVal)\n",
        "\n",
        "# Calculo del punteo total basado en las variables de asignación\n",
        "total_matching_score = 0\n",
        "for [r, j] in combinations:\n",
        "    if (abs(x[r, j].x) > 1e-6):\n",
        "        total_matching_score = total_matching_score + ms[r, j]*x[r, j].x\n",
        "\n",
        "print('Punteo total logrado: ', total_matching_score)\n"
      ]
    },
    {
      "cell_type": "markdown",
      "source": [
        "Por lo tanto, la solución con heurística es sub-óptima (166 de punteo) comparada con la solución del optimizador (193 de punteo)."
      ],
      "metadata": {
        "id": "9IkT0t7RnSPX"
      }
    }
  ],
  "metadata": {
    "kernelspec": {
      "display_name": "Python 3",
      "language": "python",
      "name": "python3"
    },
    "language_info": {
      "codemirror_mode": {
        "name": "ipython",
        "version": 3
      },
      "file_extension": ".py",
      "mimetype": "text/x-python",
      "name": "python",
      "nbconvert_exporter": "python",
      "pygments_lexer": "ipython3",
      "version": "3.9.2"
    },
    "colab": {
      "provenance": []
    }
  },
  "nbformat": 4,
  "nbformat_minor": 0
}
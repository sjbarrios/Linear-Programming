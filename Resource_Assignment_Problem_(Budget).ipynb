{
  "cells": [
    {
      "cell_type": "markdown",
      "metadata": {
        "id": "qKzeG1FFoifg"
      },
      "source": [
        "# Formulación del Problema de Asignación de Recursos\n",
        "\n",
        "Considere tres posiciones a llenar en Pantaleón: Tester, Java-Developer y Architect.\n",
        "\n",
        "Considere tres posibles candidatos, en los que todos conocen las tres disciplinas: Carlos, Joe, y Monika.\n",
        "\n",
        "## Datos\n",
        "\n",
        "Se realizó una evaluación a cada candidato para medir la habilidad para realizar cada uno de estos trabajos. Las notas obtenidas se resumen a continuación:\n",
        "\n",
        "![Resource Allocation Problem Data Image](https://github.com/Gurobi/modeling-examples/blob/master/milp_tutorial/util/rap_data.png?raw=1)\n",
        "\n",
        "\n",
        "**Asunción**: Solamente un recurso puede trabajar en una posición, y solamente una posición puede asignarse a un recurso.\n",
        "\n",
        "## Descripción del Problema\n",
        "\n",
        "Determine una asignación que asegure que cada posición sea llenada, y que cada recurso se asigne a lo más a una posición para *maximizar* la puntuación total de las asignaciones.\n",
        "\n",
        "## Variables de Decisión\n",
        "\n",
        "Se define la variable de decisión $x_{r,\\; j} = 1$ que representa que el recurso $r$ es asignado a la posición $j$, y 0 en otro caso, para todos los recursos $r=1,2,3$ y posiciones $𝑗=1,2,3$.\n",
        "\n",
        "## Restricciones\n",
        "\n",
        "### Restricciones de Posición\n",
        "\n",
        "Para cada posición $𝑗=1,2,3,$ exactamente un recurso de $r=1,2,3$ debe ser asignado.\n",
        "\n",
        "Restricción (Tester=1): $x_{1,\\; 1} + x_{2,\\; 1} + x_{3,\\; 1} = 1$\n",
        "\n",
        "Restricción (Java-Developer=2): $x_{1,\\; 2} + x_{2,\\; 2} + x_{3,\\; 2} = 1$\n",
        "\n",
        "Restricción (Architect=3): $x_{1,\\; 3} + x_{2,\\; 3} + x_{3,\\; 3} = 1$\n",
        "\n",
        "### Restricciones de Recursos\n",
        "\n",
        "Para cada recurso $r=1,2,3$, a lo más una posición $𝑗=1,2,3,$ puede ser asignada.\n",
        "\n",
        "Restricción (Carlos=1): $x_{1,\\; 1} + x_{1,\\; 2} + x_{1,\\; 3}  \\leq 1$\n",
        "\n",
        "Restricción (Joe=2): $x_{2,\\; 1} + x_{2,\\; 2} + x_{2,\\; 3}  \\leq 1$\n",
        "\n",
        "Restricción (Monika=3): $x_{2,\\; 1} + x_{2,\\; 2} + x_{2,\\; 3}  \\leq 1$\n",
        "\n",
        "## Función Objetivo\n",
        "\n",
        "Se formula una función objetivo para *maximizar* el total de puntuación de las asignaciones mientras se satisfacen las restricciones de posiciones y recursos.\n",
        "\n",
        "$$\n",
        "\\max \\; (53x_{1,\\; 1} + 80x_{2,\\; 1} + 53x_{3,\\; 1}) + (27x_{1,\\; 2} + 47x_{2,\\; 2} + 73x_{3,\\; 2})\n",
        "+ (13x_{1,\\; 3} + 67x_{2,\\; 3} + 47x_{3,\\; 3})\n",
        "$$\n",
        "\n",
        "\n"
      ]
    },
    {
      "cell_type": "markdown",
      "metadata": {
        "id": "XVuai01uoifh"
      },
      "source": [
        "Instalación de paquetes para Optimización"
      ]
    },
    {
      "cell_type": "code",
      "execution_count": 15,
      "metadata": {
        "id": "hGIjjOtioifh",
        "colab": {
          "base_uri": "https://localhost:8080/"
        },
        "outputId": "e9e36eaa-4e36-436f-8d61-8d29dd72c95d"
      },
      "outputs": [
        {
          "output_type": "stream",
          "name": "stdout",
          "text": [
            "Requirement already satisfied: gurobipy in /usr/local/lib/python3.10/dist-packages (10.0.2)\n",
            "Requirement already satisfied: names in /usr/local/lib/python3.10/dist-packages (0.3.0)\n",
            "Requirement already satisfied: numpy in /usr/local/lib/python3.10/dist-packages (1.23.5)\n"
          ]
        }
      ],
      "source": [
        "%pip install gurobipy\n",
        "%pip install names\n",
        "%pip install numpy"
      ]
    },
    {
      "cell_type": "code",
      "execution_count": 16,
      "metadata": {
        "id": "mra9lKgioifi"
      },
      "outputs": [],
      "source": [
        "# Gurobi\n",
        "from gurobipy import *"
      ]
    },
    {
      "cell_type": "markdown",
      "metadata": {
        "id": "B_cFq4_Moifj"
      },
      "source": [
        "## Datos\n",
        "En una lista 'R' se colectan los nombres de los recursos: Carlos, Joe y Monika.\n",
        "\n",
        "En una lista 'J' se colectan los nombres de las posiciones disponibles: teste, java-developer y architect.\n",
        "\n",
        "\n",
        "**Notación Matemática**\n",
        "\n",
        "$r \\in R$ significa que un recurso con índice $r$ está en el conjunto (lista) 'R'.\n",
        "\n",
        "$j \\in J$ significa que una posición con índice $j$ está en el conjunto (lista) 'J'."
      ]
    },
    {
      "cell_type": "code",
      "execution_count": 17,
      "metadata": {
        "id": "4JV5uTk9oifj"
      },
      "outputs": [],
      "source": [
        "# conjuntos de recursos y posiciones\n",
        "R = ['Carlos', 'Joe', 'Monika']\n",
        "J = ['Tester', 'JavaDeveloper', 'Architect']"
      ]
    },
    {
      "cell_type": "markdown",
      "metadata": {
        "id": "SYgAOqsooifj"
      },
      "source": [
        "La función \"multidict\" describe las puntuaciones para cada trabajo asociadas con cada combinación de un recurso y una posición (tabla de notas obtenidas).\n",
        "\n",
        "\n",
        "**Notación Matemática**\n",
        "\n",
        "Sea $ms_{r,\\;j}$ la nota obtenida del recurso  $r \\in R$  con respecto a la posición  $j \\in J$.\n",
        "\n",
        "Sea $C_{r,\\;j}$ el costo de asignar el recurso  $r \\in R$  a la posición  $j \\in J$.\n",
        "\n",
        "Let $B$ el presupuesto disponible."
      ]
    },
    {
      "cell_type": "code",
      "execution_count": 18,
      "metadata": {
        "id": "iCCMUJ0Uoifk"
      },
      "outputs": [],
      "source": [
        "# tabla de puntuaciones y costos por recurso y posición\n",
        "combinations, ms, C = multidict({\n",
        "    ('Carlos', 'Tester'): [53, 1],\n",
        "    ('Carlos', 'JavaDeveloper'): [27, 1],\n",
        "    ('Carlos', 'Architect'): [13,1],\n",
        "    ('Joe', 'Tester'): [80, 2],\n",
        "    ('Joe', 'JavaDeveloper'): [47, 2],\n",
        "    ('Joe', 'Architect'): [67, 2],\n",
        "    ('Monika', 'Tester'): [53, 3] ,\n",
        "    ('Monika', 'JavaDeveloper'): [73, 3],\n",
        "    ('Monika', 'Architect'): [47, 3]\n",
        "})\n",
        "\n",
        "# Presupuesto disponible\n",
        "#B = 6\n",
        "B=5"
      ]
    },
    {
      "cell_type": "markdown",
      "metadata": {
        "id": "kCOXBvZBoifk"
      },
      "source": [
        "La siguiente función genera un objeto modelo vacío \"m\" y toma como argumento el nombre 'RAP' (Resource Assignment Problem)"
      ]
    },
    {
      "cell_type": "code",
      "execution_count": 19,
      "metadata": {
        "id": "o4PwujEmoifk"
      },
      "outputs": [],
      "source": [
        "# Se declara e inicializa el modelo\n",
        "m = Model('RAP')"
      ]
    },
    {
      "cell_type": "markdown",
      "metadata": {
        "id": "t4-zpaYtoifl"
      },
      "source": [
        "## Variables de Decisión\n",
        "\n",
        "La variable de decisión $x_{r,\\; j} = 1$ representa que el recurso $r$ es asignado a la posición $j$, y 0 en otro caso, para $r=1,2,3$ Y $𝑗=1,2,3$.\n",
        "\n",
        "El método “addVars()” define las variables de decisión del objeto modelo \"m\".\n",
        "\n",
        "**Notación Matemática**\n",
        "\n",
        "Sea $x_{r,\\; j} = 1$ si el recurso $r \\in R$  se asigna a la posición $j \\in J$, y cero en otro caso.\n",
        "\n",
        "Sea $g_{j} = 1$ si la posición $j \\in J$ no puede ser llenada, y cero en otro caso. Esta variable es una variable \"gap\" que indica que una posición no puede ser llenada.\n"
      ]
    },
    {
      "cell_type": "code",
      "execution_count": 20,
      "metadata": {
        "id": "OkwtTETuoifl"
      },
      "outputs": [],
      "source": [
        "# Crear las variables de decisión para el modelo RAP\n",
        "#x = m.addVars(combinations, name=\"assign\")\n",
        "x = m.addVars(combinations, vtype=GRB.BINARY, name=\"assign\")\n",
        "\n",
        "# Crear las variables \"gap\" del modelo RAP\n",
        "g = m.addVars(J, name=\"gap\")"
      ]
    },
    {
      "cell_type": "markdown",
      "metadata": {
        "id": "BqPvguaKoifl"
      },
      "source": [
        "## Resticciones de posición\n",
        "\n",
        "Para cada posición $𝑗=1,2,3$, exactamente un recurso de $r=1,2,3$ debe ser asignado.\n",
        "\n",
        "Restricción (Tester=1): $x_{1,\\; 1} + x_{2,\\; 1} + x_{3,\\; 1} = 1$\n",
        "\n",
        "Restricción (Java-Developer=2): $x_{1,\\; 2} + x_{2,\\; 2} + x_{3,\\; 2} = 1$\n",
        "\n",
        "Restricción (Architect=3): $x_{1,\\; 3} + x_{2,\\; 3} + x_{3,\\; 3} = 1$\n",
        "\n",
        "El método “addConstrs()” define las restricciones del objeto modelo \"m\".\n",
        "\n",
        "\n",
        "**Notación matemática**\n",
        "\n",
        "Para cada posición $j \\in J$, exactamente un recurso puede ser asignado:\n",
        "\n",
        "$$\n",
        "\\sum_{r \\: \\in \\: R} x_{r,\\; j} + g_{j} = 1\n",
        "$$\n",
        "\n"
      ]
    },
    {
      "cell_type": "code",
      "execution_count": 21,
      "metadata": {
        "id": "3eoN3LvZoifm"
      },
      "outputs": [],
      "source": [
        "# crear resticciones de posición\n",
        "jobs = m.addConstrs((x.sum('*',j) + g[j]  == 1 for j in J), 'job')"
      ]
    },
    {
      "cell_type": "markdown",
      "metadata": {
        "id": "kUh7XFUyoifm"
      },
      "source": [
        "## Restricciones de recursos\n",
        "\n",
        "Para cada recurso $r=1,2,3$ a lo más una posición de $j=1,2,3$ puede asignarse.\n",
        "\n",
        "Restricción (Carlos=1): $x_{1,\\; 1} + x_{1,\\; 2} + x_{1,\\; 3}  \\leq 1$\n",
        "\n",
        "Restricción (Joe=2): $x_{2,\\; 1} + x_{2,\\; 2} + x_{2,\\; 3}  \\leq 1$\n",
        "\n",
        "Restricción (Monika=3): $x_{2,\\; 1} + x_{2,\\; 2} + x_{2,\\; 3}  \\leq 1$\n",
        "\n",
        "El método “addConstrs()” define las restricciones del objeto modelo \"m\".\n",
        "\n",
        "**Notación Matemática**\n",
        "\n",
        "Para cada recurso $r \\in R$, a lo más una posición puede ser asignada:\n",
        "\n",
        "$$\n",
        "\\sum_{j \\: \\in \\: J} x_{r,\\; j} \\leq 1\n",
        "$$"
      ]
    },
    {
      "cell_type": "code",
      "execution_count": 22,
      "metadata": {
        "id": "LmE4XNm-oifm"
      },
      "outputs": [],
      "source": [
        "# crear restricciones de recursos\n",
        "resources = m.addConstrs((x.sum(r,'*') <= 1 for r in R), 'resource')"
      ]
    },
    {
      "cell_type": "markdown",
      "metadata": {
        "id": "s2-d3Be0oifn"
      },
      "source": [
        "## Restricción de Presupuesto\n",
        "\n",
        "El costo total de asignar recursos a posiciones debe ser menor o igual que el presupuesto disponible.\n",
        "\n",
        "$$\n",
        "\\sum_{r \\; \\in \\; R} \\sum_{j \\; \\in \\; J} C_{r, j}x_{r, j} \\leq B\n",
        "$$"
      ]
    },
    {
      "cell_type": "code",
      "execution_count": 23,
      "metadata": {
        "id": "OffucxVvoifn"
      },
      "outputs": [],
      "source": [
        "budget = m.addConstr((x.prod(C) <= B), 'budget')"
      ]
    },
    {
      "cell_type": "markdown",
      "metadata": {
        "id": "AcbBDmR0oifn"
      },
      "source": [
        "## Función Objetivo\n",
        "\n",
        "La función objetivo se plantea para maximizar el punteo total de todas las asignaciones de recursos a posiciones.\n",
        "\n",
        "$$\n",
        "\\max \\; (53x_{1,\\; 1} + 80x_{2,\\; 1} + 53x_{3,\\; 1}) + (27x_{1,\\; 2} + 47x_{2,\\; 2} + 73x_{3,\\; 2})\n",
        "+ (13x_{1,\\; 3} + 67x_{2,\\; 3} + 47x_{3,\\; 3})\n",
        "$$\n",
        "\n",
        "El método “setObjective()” define la función objetivo del objeto modelo \"m\".\n",
        "\n",
        "**Notación matemática**\n",
        "\n",
        "Nótese que:\n",
        "$$\n",
        "(53x_{1,\\; 1} + 80x_{2,\\; 1} + 53x_{3,\\; 1}) = \\sum_{r \\; \\in \\; R} ms_{r,1}x_{r,1} \\\\\n",
        "(27x_{1,\\; 2} + 47x_{2,\\; 2} + 73x_{3,\\; 2}) = \\sum_{r \\; \\in \\; R} ms_{r,2}x_{r,2} \\\\\n",
        "(13x_{1,\\; 3} + 67x_{2,\\; 3} + 47x_{3,\\; 3})  = \\sum_{r \\; \\in \\; R} ms_{r,3}x_{r,3}\n",
        "$$\n",
        "\n",
        "Por lo tanto, la función objetivo puede ser expresada como sigue:\n",
        "\n",
        "$$\n",
        "\\max \\; \\sum_{j \\; \\in \\; J} \\sum_{r \\; \\in \\; R} ms_{r,j}x_{r,j} -BigM \\sum_{j \\in J} g_{j}\n",
        "$$\n"
      ]
    },
    {
      "cell_type": "code",
      "execution_count": 24,
      "metadata": {
        "id": "_C0-D4ugoifn"
      },
      "outputs": [],
      "source": [
        "# Penalización por no llenar una posición\n",
        "BIGM =101\n",
        "\n",
        "# El objetivo es maximizar el punteo total de las asignaciones de recursos a posiciones\n",
        "m.setObjective(x.prod(ms) -BIGM*g.sum(), GRB.MAXIMIZE)"
      ]
    },
    {
      "cell_type": "code",
      "execution_count": 25,
      "metadata": {
        "id": "yskPjXCvoifo",
        "colab": {
          "base_uri": "https://localhost:8080/"
        },
        "outputId": "8370d61f-ce5b-4429-9e3e-9497d578b2f1"
      },
      "outputs": [
        {
          "output_type": "stream",
          "name": "stdout",
          "text": [
            "Maximize\n",
            "53.0 assign[Carlos,Tester] + 27.0 assign[Carlos,JavaDeveloper]\n",
            "+ 13.0 assign[Carlos,Architect] + 80.0 assign[Joe,Tester]\n",
            "+ 47.0 assign[Joe,JavaDeveloper] + 67.0 assign[Joe,Architect]\n",
            "+ 53.0 assign[Monika,Tester] + 73.0 assign[Monika,JavaDeveloper]\n",
            "+ 47.0 assign[Monika,Architect] + -101.0 gap[Tester] + -101.0 gap[JavaDeveloper] +\n",
            "-101.0 gap[Architect]\n",
            "Subject To\n",
            "job[Tester]: assign[Carlos,Tester] + assign[Joe,Tester] + assign[Monika,Tester] +\n",
            " gap[Tester] = 1\n",
            "job[JavaDeveloper]: assign[Carlos,JavaDeveloper] + assign[Joe,JavaDeveloper] +\n",
            " assign[Monika,JavaDeveloper] + gap[JavaDeveloper] = 1\n",
            "job[Architect]: assign[Carlos,Architect] + assign[Joe,Architect] +\n",
            " assign[Monika,Architect] + gap[Architect] = 1\n",
            "resource[Carlos]: assign[Carlos,Tester] + assign[Carlos,JavaDeveloper] +\n",
            " assign[Carlos,Architect] <= 1\n",
            "resource[Joe]: assign[Joe,Tester] + assign[Joe,JavaDeveloper] + assign[Joe,Architect]\n",
            " <= 1\n",
            "resource[Monika]: assign[Monika,Tester] + assign[Monika,JavaDeveloper] +\n",
            " assign[Monika,Architect] <= 1\n",
            "budget: assign[Carlos,Tester] + assign[Carlos,JavaDeveloper] + assign[Carlos,Architect]\n",
            "+ 2.0 assign[Joe,Tester] + 2.0 assign[Joe,JavaDeveloper] + 2.0 assign[Joe,Architect] +\n",
            "3.0 assign[Monika,Tester] + 3.0 assign[Monika,JavaDeveloper] + 3.0\n",
            " assign[Monika,Architect] <= 5\n",
            "Binaries\n",
            "['assign[Carlos,Tester]', 'assign[Carlos,JavaDeveloper]', 'assign[Carlos,Architect]',\n",
            "'assign[Joe,Tester]', 'assign[Joe,JavaDeveloper]', 'assign[Joe,Architect]',\n",
            " 'assign[Monika,Tester]', 'assign[Monika,JavaDeveloper]', 'assign[Monika,Architect]']\n"
          ]
        }
      ],
      "source": [
        "# save model for inspection\n",
        "m.write('RAP3.lp')\n",
        "m.display()"
      ]
    },
    {
      "cell_type": "code",
      "execution_count": 26,
      "metadata": {
        "scrolled": false,
        "id": "6oD3bE-roifo",
        "outputId": "01368d58-b888-442e-d7c3-d9c6da19ea5e",
        "colab": {
          "base_uri": "https://localhost:8080/"
        }
      },
      "outputs": [
        {
          "output_type": "stream",
          "name": "stdout",
          "text": [
            "Gurobi Optimizer version 10.0.2 build v10.0.2rc0 (linux64)\n",
            "\n",
            "CPU model: Intel(R) Xeon(R) CPU @ 2.20GHz, instruction set [SSE2|AVX|AVX2]\n",
            "Thread count: 1 physical cores, 2 logical processors, using up to 2 threads\n",
            "\n",
            "Optimize a model with 7 rows, 12 columns and 30 nonzeros\n",
            "Model fingerprint: 0xa1231a12\n",
            "Variable types: 3 continuous, 9 integer (9 binary)\n",
            "Coefficient statistics:\n",
            "  Matrix range     [1e+00, 3e+00]\n",
            "  Objective range  [1e+01, 1e+02]\n",
            "  Bounds range     [1e+00, 1e+00]\n",
            "  RHS range        [1e+00, 5e+00]\n",
            "Presolve time: 0.00s\n",
            "Presolved: 7 rows, 12 columns, 30 nonzeros\n",
            "Variable types: 0 continuous, 12 integer (12 binary)\n",
            "Found heuristic solution: objective 52.0000000\n",
            "\n",
            "Root relaxation: objective 1.350000e+02, 4 iterations, 0.00 seconds (0.00 work units)\n",
            "\n",
            "    Nodes    |    Current Node    |     Objective Bounds      |     Work\n",
            " Expl Unexpl |  Obj  Depth IntInf | Incumbent    BestBd   Gap | It/Node Time\n",
            "\n",
            "     0     0  135.00000    0    2   52.00000  135.00000   160%     -    0s\n",
            "     0     0     cutoff    0        52.00000   52.00000  0.00%     -    0s\n",
            "\n",
            "Cutting planes:\n",
            "  Gomory: 1\n",
            "  GUB cover: 1\n",
            "  RLT: 1\n",
            "\n",
            "Explored 1 nodes (6 simplex iterations) in 0.03 seconds (0.00 work units)\n",
            "Thread count was 2 (of 2 available processors)\n",
            "\n",
            "Solution count 1: 52 \n",
            "\n",
            "Optimal solution found (tolerance 1.00e-04)\n",
            "Best objective 5.200000000000e+01, best bound 5.200000000000e+01, gap 0.0000%\n"
          ]
        }
      ],
      "source": [
        "# correr el motor de optimización\n",
        "m.optimize()"
      ]
    },
    {
      "cell_type": "code",
      "execution_count": 27,
      "metadata": {
        "id": "O_rgP_Kqoifo",
        "outputId": "d3020104-b12a-4b25-e494-d2eea8d1dc8e",
        "colab": {
          "base_uri": "https://localhost:8080/"
        }
      },
      "outputs": [
        {
          "output_type": "stream",
          "name": "stdout",
          "text": [
            "assign[Joe,Tester] 1.0\n",
            "assign[Monika,JavaDeveloper] 1.0\n",
            "gap[Architect] 1.0\n",
            "Valor óptimo de la función objetivo: 52.0\n",
            "Punteo total logrado:  153.0\n"
          ]
        }
      ],
      "source": [
        "# despliegue de las variables de decisión que lograron un valor óptimo\n",
        "for v in m.getVars():\n",
        "\tif (abs(v.x) > 1e-6):\n",
        "\t\tprint(v.varName, v.x)\n",
        "\n",
        "# desplegar el punteo total alcanzado\n",
        "print('Valor óptimo de la función objetivo:', m.objVal)\n",
        "\n",
        "# Calculo del punteo total basado en las variables de asignación\n",
        "total_matching_score = 0\n",
        "for [r, j] in combinations:\n",
        "    if (abs(x[r, j].x) > 1e-6):\n",
        "        total_matching_score = total_matching_score + ms[r, j]*x[r, j].x\n",
        "\n",
        "print('Punteo total logrado: ', total_matching_score)\n"
      ]
    }
  ],
  "metadata": {
    "kernelspec": {
      "display_name": "Python 3",
      "language": "python",
      "name": "python3"
    },
    "language_info": {
      "codemirror_mode": {
        "name": "ipython",
        "version": 3
      },
      "file_extension": ".py",
      "mimetype": "text/x-python",
      "name": "python",
      "nbconvert_exporter": "python",
      "pygments_lexer": "ipython3",
      "version": "3.9.2"
    },
    "colab": {
      "provenance": []
    }
  },
  "nbformat": 4,
  "nbformat_minor": 0
}
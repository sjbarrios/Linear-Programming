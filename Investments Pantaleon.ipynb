{
 "cells": [
  {
   "cell_type": "markdown",
   "metadata": {},
   "source": [
    "## Selección de Ejecución de Inversiones Pantaleón\n",
    "\n",
    "Pantaleón está considerando seis posibles proyectos de construcción durante los próximos 4 años. Fox puede emprender cualquiera de los proyectos en parte o en su totalidad. La ejecución parcial de un proyecto prorrateará proporcionalmente tanto el rendimiento como los desembolsos de efectivo. Los rendimientos (valor presente) y los desembolsos de efectivo para los proyectos se dan en la siguiente tabla.\n",
    "\n",
    "\n",
    "| Proyecto | Desembolso Año 1 ($1000) | Desembolso Año 2  ($1000) | Desembolso Año 3  ($1000) | Desembolso Año 4 ($1000)| Rendimiento ($1000) |\n",
    "|:--:|:--:|:--:|:--:|:--:|:--:|\n",
    "| 1 | 10.5 | 14.4 | 2.2 | 2.4 | 32.40 |\n",
    "| 2 | 8.3  | 12.6 | 9.5 | 3.1 | 35.80 |\n",
    "| 3 | 10.2 | 14.2 | 5.6 | 4.2 | 17.75 |\n",
    "| 4 | 7.2  | 10.5 | 7.5 | 5.0 | 14.80 |\n",
    "| 5 | 12.3 | 10.1 | 8.3 | 6.3 | 18.20 |\n",
    "| 6 | 9.2  | 7.8  | 6.9 | 5.1 | 12.35 |\n",
    "| Fondos Disponibles ($1000) | 60.0 | 70.0 | 35.0 | 20.0 |  |\n",
    "\n",
    "Formule el problema como un programa lineal, y determine la combinación óptima de proyectos que maximice el rendimiento total utilizando Gurobi.\n",
    "Pase por alto el valor en el tiempo del dinero."
   ]
  },
  {
   "cell_type": "markdown",
   "metadata": {},
   "source": [
    "### Formulación Matemática\n",
    "\n",
    "#### Conjuntos y notación\n",
    "- Sea $p$ el número de inversiones o proyectos que se consideran.\n",
    "- Sea $P = \\{1,2,...,p\\}$ el conjunto de inversiones o proyectos.\n",
    "- Sea $a$ el número de años que se consideran.\n",
    "- Sea $A = \\{1,2,...,a\\}$ el conjunto de años en el análisis.\n",
    "- Sea $f_j$ los fondos disponibles para invertir en el año $j$, $\\forall j \\in A$\n",
    "- Sea $d_{i,j}$ el desembolso que requiere el projecto $i$ en el año $j$, $\\forall i \\in P, \\forall j \\in A$\n",
    "- Sea $r_i$ el rendimiento (valor presente) ofrecido por el projecto $i$, $\\forall i \\in P$\n",
    "\n",
    "#### Variables de decisión\n",
    "- Sea $x_i$ la ejecución parcial o total del proyecto $i$, $\\forall i \\in P$\n",
    "\n",
    "#### Función Objetivo\n",
    "La función objetivo se plantea para maximizar el rendimiento total del portafolio de proyectos a seleccionar.\n",
    "\n",
    "$\\begin{align}\n",
    "\\max\\limits_{\\forall i \\in P} \\sum_{i=1}^{p} r_i x_i\n",
    "\\end{align}$\n",
    "\n",
    "Sujeta a:\n",
    "\n",
    "$\\begin{align}\n",
    "\\sum_{i=1}^{p} d_{i,j} x_i \\leq f_j, \\forall i \\in P, \\forall j \\in A \\\\\n",
    "x_i \\in [0,1], \\forall i \\in P\n",
    "\\end{align}$"
   ]
  },
  {
   "cell_type": "code",
   "execution_count": 1,
   "metadata": {},
   "outputs": [],
   "source": [
    "# librerías\n",
    "import pandas as pd\n",
    "import numpy as np\n",
    "from gurobipy import *"
   ]
  },
  {
   "cell_type": "code",
   "execution_count": 2,
   "metadata": {},
   "outputs": [],
   "source": [
    "# datos de proyectos\n",
    "proyectos, rendimientos = multidict({\n",
    "    'proyecto_1': 32.40,\n",
    "    'proyecto_2': 35.80,\n",
    "    'proyecto_3': 17.75,\n",
    "    'proyecto_4': 14.80,\n",
    "    'proyecto_5': 18.20,\n",
    "    'proyecto_6': 12.35\n",
    "})\n",
    "\n",
    "# datos de disponibilidad de fondos\n",
    "años, fondos = multidict({\n",
    "    '1': 60.0,\n",
    "    '2': 70.0,\n",
    "    '3': 35.0,\n",
    "    '4': 20.0,\n",
    "})\n",
    "\n",
    "# datos de flujos\n",
    "flujos = {\n",
    "    ('proyecto_1','1'): 10.5,\n",
    "    ('proyecto_1','2'): 14.4,\n",
    "    ('proyecto_1','3'): 2.2,\n",
    "    ('proyecto_1','4'): 2.4,\n",
    "    ('proyecto_2','1'): 8.3,\n",
    "    ('proyecto_2','2'): 12.6,\n",
    "    ('proyecto_2','3'): 9.5,\n",
    "    ('proyecto_2','4'): 3.1,\n",
    "    ('proyecto_3','1'): 10.2,\n",
    "    ('proyecto_3','2'): 14.2,\n",
    "    ('proyecto_3','3'): 5.6,\n",
    "    ('proyecto_3','4'): 4.2,\n",
    "    ('proyecto_4','1'): 7.2,\n",
    "    ('proyecto_4','2'): 10.5,\n",
    "    ('proyecto_4','3'): 7.5,\n",
    "    ('proyecto_4','4'): 5.0,\n",
    "    ('proyecto_5','1'): 12.3,\n",
    "    ('proyecto_5','2'): 10.1,\n",
    "    ('proyecto_5','3'): 8.3,\n",
    "    ('proyecto_5','4'): 6.3,\n",
    "    ('proyecto_6','1'): 9.2,\n",
    "    ('proyecto_6','2'): 7.8,\n",
    "    ('proyecto_6','3'): 6.9,\n",
    "    ('proyecto_6','4'): 5.1\n",
    "}"
   ]
  },
  {
   "cell_type": "code",
   "execution_count": 3,
   "metadata": {},
   "outputs": [
    {
     "name": "stdout",
     "output_type": "stream",
     "text": [
      "Set parameter Username\n"
     ]
    }
   ],
   "source": [
    "# inicialización de modelo \n",
    "f = Model('Inversiones')\n",
    "\n",
    "# creación de variables de decisión: ejecución por proyecto\n",
    "ejecucion = f.addVars(proyectos, name=\"ejecutar\")\n",
    "\n",
    "# creación de restricciones\n",
    "res = f.addConstrs(((sum(flujos[p,a]*ejecucion[p] for p in proyectos) <= fondos[a]) for a in años), name='R')\n",
    "res1 = f.addConstrs((ejecucion[p] <= 1 for p in proyectos))"
   ]
  },
  {
   "cell_type": "code",
   "execution_count": 4,
   "metadata": {},
   "outputs": [],
   "source": [
    "# el objetivo es maximizar el rendimiento total\n",
    "f.setObjective(ejecucion.prod(rendimientos),GRB.MAXIMIZE)"
   ]
  },
  {
   "cell_type": "code",
   "execution_count": 5,
   "metadata": {},
   "outputs": [
    {
     "name": "stdout",
     "output_type": "stream",
     "text": [
      "Maximize\n",
      "32.4 ejecutar[proyecto_1] + 35.8 ejecutar[proyecto_2] + 17.75 ejecutar[proyecto_3]\n",
      "+ 14.8 ejecutar[proyecto_4] + 18.2 ejecutar[proyecto_5] + 12.35 ejecutar[proyecto_6]\n",
      "Subject To\n",
      "R[1]: 10.5 ejecutar[proyecto_1] + 8.3 ejecutar[proyecto_2] + 10.2 ejecutar[proyecto_3]\n",
      " + 7.2 ejecutar[proyecto_4] + 12.3 ejecutar[proyecto_5] + 9.2 ejecutar[proyecto_6] <= 60\n",
      "R[2]: 14.4 ejecutar[proyecto_1] + 12.6 ejecutar[proyecto_2] + 14.2 ejecutar[proyecto_3]\n",
      " + 10.5 ejecutar[proyecto_4] + 10.1 ejecutar[proyecto_5] + 7.8 ejecutar[proyecto_6] <= 70\n",
      "R[3]: 2.2 ejecutar[proyecto_1] + 9.5 ejecutar[proyecto_2] + 5.6 ejecutar[proyecto_3] +\n",
      " 7.5 ejecutar[proyecto_4] + 8.3 ejecutar[proyecto_5] + 6.9 ejecutar[proyecto_6] <= 35\n",
      "R[4]: 2.4 ejecutar[proyecto_1] + 3.1 ejecutar[proyecto_2] + 4.2 ejecutar[proyecto_3] +\n",
      " 5.0 ejecutar[proyecto_4] + 6.3 ejecutar[proyecto_5] + 5.1 ejecutar[proyecto_6] <= 20\n",
      "  R4: ejecutar[proyecto_1] <= 1\n",
      "  R5: ejecutar[proyecto_2] <= 1\n",
      "  R6: ejecutar[proyecto_3] <= 1\n",
      "  R7: ejecutar[proyecto_4] <= 1\n",
      "  R8: ejecutar[proyecto_5] <= 1\n",
      "  R9: ejecutar[proyecto_6] <= 1\n"
     ]
    }
   ],
   "source": [
    "# guardar modelo para inspección\n",
    "f.write('inversiones.lp')\n",
    "f.display()"
   ]
  },
  {
   "cell_type": "code",
   "execution_count": 6,
   "metadata": {},
   "outputs": [
    {
     "name": "stdout",
     "output_type": "stream",
     "text": [
      "Gurobi Optimizer version 10.0.2 build v10.0.2rc0 (mac64[arm])\n",
      "\n",
      "CPU model: Apple M2 Max\n",
      "Thread count: 12 physical cores, 12 logical processors, using up to 12 threads\n",
      "\n",
      "Optimize a model with 10 rows, 6 columns and 30 nonzeros\n",
      "Model fingerprint: 0x9bac47f8\n",
      "Coefficient statistics:\n",
      "  Matrix range     [1e+00, 1e+01]\n",
      "  Objective range  [1e+01, 4e+01]\n",
      "  Bounds range     [0e+00, 0e+00]\n",
      "  RHS range        [1e+00, 7e+01]\n",
      "Presolve removed 8 rows and 0 columns\n",
      "Presolve time: 0.00s\n",
      "Presolved: 2 rows, 6 columns, 12 nonzeros\n",
      "\n",
      "Iteration    Objective       Primal Inf.    Dual Inf.      Time\n",
      "       0    5.1545455e+02   9.727273e+00   0.000000e+00      0s\n",
      "       3    1.1606111e+02   0.000000e+00   0.000000e+00      0s\n",
      "\n",
      "Solved in 3 iterations and 0.00 seconds (0.00 work units)\n",
      "Optimal objective  1.160611111e+02\n"
     ]
    }
   ],
   "source": [
    "# motor de optimización\n",
    "f.optimize()"
   ]
  },
  {
   "cell_type": "code",
   "execution_count": 7,
   "metadata": {},
   "outputs": [
    {
     "name": "stdout",
     "output_type": "stream",
     "text": [
      "ejecutar[proyecto_1] 1.0\n",
      "ejecutar[proyecto_2] 1.0\n",
      "ejecutar[proyecto_3] 1.0\n",
      "ejecutar[proyecto_4] 1.0\n",
      "ejecutar[proyecto_5] 0.84\n",
      "rendimiento total 116.06\n"
     ]
    }
   ],
   "source": [
    "# despliegue de valor óptimo de las variables de decisión\n",
    "for v in f.getVars():\n",
    "    if(abs(v.x)>1e-6):\n",
    "        print(v.varName, round(v.x,2))\n",
    "\n",
    "# valor óptimo de rendimiento total\n",
    "print('rendimiento total', round(f.objVal,2))"
   ]
  },
  {
   "cell_type": "markdown",
   "metadata": {},
   "source": [
    "Suponga que si se emprende una parte del proyecto 2, entonces debe emprenderse por lo menos una parte igual del proyecto 6. Modifique la formulación del modelo y determine la nueva solución óptima."
   ]
  },
  {
   "cell_type": "code",
   "execution_count": 8,
   "metadata": {},
   "outputs": [],
   "source": [
    "# inicialización de modelo \n",
    "f = Model('Inversiones')\n",
    "\n",
    "# creación de variables de decisión: ejecución por proyecto\n",
    "ejecucion = f.addVars(proyectos, name=\"ejecutar\")\n",
    "\n",
    "# creación de restricciones\n",
    "res = f.addConstrs(((sum(flujos[p,a]*ejecucion[p] for p in proyectos) <= fondos[a]) for a in años), name='R')\n",
    "res1 = f.addConstrs((ejecucion[p] <= 1 for p in proyectos))\n",
    "res2 = f.addConstr(ejecucion['proyecto_6'] >= ejecucion['proyecto_2'],name='res_p6')"
   ]
  },
  {
   "cell_type": "code",
   "execution_count": 9,
   "metadata": {},
   "outputs": [
    {
     "name": "stdout",
     "output_type": "stream",
     "text": [
      "Maximize\n",
      "32.4 ejecutar[proyecto_1] + 35.8 ejecutar[proyecto_2] + 17.75 ejecutar[proyecto_3]\n",
      "+ 14.8 ejecutar[proyecto_4] + 18.2 ejecutar[proyecto_5] + 12.35 ejecutar[proyecto_6]\n",
      "Subject To\n",
      "R[1]: 10.5 ejecutar[proyecto_1] + 8.3 ejecutar[proyecto_2] + 10.2 ejecutar[proyecto_3]\n",
      " + 7.2 ejecutar[proyecto_4] + 12.3 ejecutar[proyecto_5] + 9.2 ejecutar[proyecto_6] <= 60\n",
      "R[2]: 14.4 ejecutar[proyecto_1] + 12.6 ejecutar[proyecto_2] + 14.2 ejecutar[proyecto_3]\n",
      " + 10.5 ejecutar[proyecto_4] + 10.1 ejecutar[proyecto_5] + 7.8 ejecutar[proyecto_6] <= 70\n",
      "R[3]: 2.2 ejecutar[proyecto_1] + 9.5 ejecutar[proyecto_2] + 5.6 ejecutar[proyecto_3] +\n",
      " 7.5 ejecutar[proyecto_4] + 8.3 ejecutar[proyecto_5] + 6.9 ejecutar[proyecto_6] <= 35\n",
      "R[4]: 2.4 ejecutar[proyecto_1] + 3.1 ejecutar[proyecto_2] + 4.2 ejecutar[proyecto_3] +\n",
      " 5.0 ejecutar[proyecto_4] + 6.3 ejecutar[proyecto_5] + 5.1 ejecutar[proyecto_6] <= 20\n",
      "  R4: ejecutar[proyecto_1] <= 1\n",
      "  R5: ejecutar[proyecto_2] <= 1\n",
      "  R6: ejecutar[proyecto_3] <= 1\n",
      "  R7: ejecutar[proyecto_4] <= 1\n",
      "  R8: ejecutar[proyecto_5] <= 1\n",
      "  R9: ejecutar[proyecto_6] <= 1\n",
      "  res_p6: -1.0 ejecutar[proyecto_2] + ejecutar[proyecto_6] >= 0\n"
     ]
    }
   ],
   "source": [
    "# el objetivo es maximizar el rendimiento total\n",
    "f.setObjective(ejecucion.prod(rendimientos),GRB.MAXIMIZE)\n",
    "\n",
    "# guardar modelo para inspección\n",
    "f.write('inversiones_1.lp')\n",
    "f.display()"
   ]
  },
  {
   "cell_type": "code",
   "execution_count": 10,
   "metadata": {},
   "outputs": [
    {
     "name": "stdout",
     "output_type": "stream",
     "text": [
      "Gurobi Optimizer version 10.0.2 build v10.0.2rc0 (mac64[arm])\n",
      "\n",
      "CPU model: Apple M2 Max\n",
      "Thread count: 12 physical cores, 12 logical processors, using up to 12 threads\n",
      "\n",
      "Optimize a model with 11 rows, 6 columns and 32 nonzeros\n",
      "Model fingerprint: 0xe4922a35\n",
      "Coefficient statistics:\n",
      "  Matrix range     [1e+00, 1e+01]\n",
      "  Objective range  [1e+01, 4e+01]\n",
      "  Bounds range     [0e+00, 0e+00]\n",
      "  RHS range        [1e+00, 7e+01]\n",
      "Presolve removed 8 rows and 0 columns\n",
      "Presolve time: 0.00s\n",
      "Presolved: 3 rows, 6 columns, 14 nonzeros\n",
      "\n",
      "Iteration    Objective       Primal Inf.    Dual Inf.      Time\n",
      "       0    5.1545455e+02   9.727273e+00   0.000000e+00      0s\n",
      "       4    1.1367778e+02   0.000000e+00   0.000000e+00      0s\n",
      "\n",
      "Solved in 4 iterations and 0.00 seconds (0.00 work units)\n",
      "Optimal objective  1.136777778e+02\n"
     ]
    }
   ],
   "source": [
    "# motor de optimización\n",
    "f.optimize()"
   ]
  },
  {
   "cell_type": "code",
   "execution_count": 11,
   "metadata": {},
   "outputs": [
    {
     "name": "stdout",
     "output_type": "stream",
     "text": [
      "ejecutar[proyecto_1] 1.0\n",
      "ejecutar[proyecto_2] 1.0\n",
      "ejecutar[proyecto_3] 1.0\n",
      "ejecutar[proyecto_4] 1.0\n",
      "ejecutar[proyecto_5] 0.03\n",
      "ejecutar[proyecto_6] 1.0\n",
      "rendimiento total 113.68\n"
     ]
    }
   ],
   "source": [
    "# despliegue de valor óptimo de las variables de decisión\n",
    "for v in f.getVars():\n",
    "    if(abs(v.x)>1e-6):\n",
    "        print(v.varName, round(v.x,2))\n",
    "\n",
    "# valor óptimo de rendimiento total\n",
    "print('rendimiento total', round(f.objVal,2))"
   ]
  }
 ],
 "metadata": {
  "kernelspec": {
   "display_name": "PantaleonDS",
   "language": "python",
   "name": "python3"
  },
  "language_info": {
   "codemirror_mode": {
    "name": "ipython",
    "version": 3
   },
   "file_extension": ".py",
   "mimetype": "text/x-python",
   "name": "python",
   "nbconvert_exporter": "python",
   "pygments_lexer": "ipython3",
   "version": "3.9.16"
  },
  "orig_nbformat": 4
 },
 "nbformat": 4,
 "nbformat_minor": 2
}

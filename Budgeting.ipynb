{
 "cells": [
  {
   "cell_type": "markdown",
   "metadata": {},
   "source": [
    "## Optimización de Selección de Proyectos\n",
    "\n",
    "#### Descripción del problema:\n",
    "Se necesita decidir qué proyectos financiar, cuando existe una limitación estricta en la *disponibilidad de capital*.\n",
    "\n",
    "Para ello se define como objetivo maximizar el valor presente neto total (NPV) de la selección de proyectos. Este indicador puede modificarse a uno más adecuado al contexto.\n"
   ]
  },
  {
   "cell_type": "markdown",
   "metadata": {},
   "source": [
    "### Formulación del Problema de Optimización\n",
    "\n",
    "##### Conjuntos y Notaciones:\n",
    "- Sea $n$ el número de proyectos a evaluar\n",
    "- Sea $N = \\{1,...,n\\}$ el conjunto de proyectos.\n",
    "\n",
    "#### Parámetros\n",
    "- Sea $NPV_i$ el Valor Presente Neto (NPV) del proyecto $i$.\n",
    "- Sea $COST_i$ el costo requerido para financiar el proyecto $i$.\n",
    "- Sea $BUDGET$ el presupuesto total disponible.\n",
    "\n",
    "#### Variables de Decisión\n",
    "- Sea $x_i \\in \\{0,1\\}$, 1 si el proyecto $i$ es seleccionado y 0 en otro caso.\n",
    "\n",
    "#### Función Objetivo\n",
    "La función objetivo se define como la suma de los valores presentes netos de los proyectos seleccionados. Buscamos maximizar esta cantidad sujeta a la restricción de presupuesto.\n",
    "\n",
    "$\\begin{align}\n",
    "\\max\\limits_{\\forall i \\in N} \\sum_{n=1}^{N} NPV_i x_i\n",
    "\\end{align}$\n",
    "\n",
    "Sujeta a:\n",
    "\n",
    "$\\begin{align}\n",
    "\\sum_{n=1}^{N} COST_i x_i \\leq BUDGET \\\\\n",
    "x_i \\in \\{0,1\\}, \\forall i \\in N\n",
    "\\end{align}$"
   ]
  },
  {
   "cell_type": "code",
   "execution_count": 1,
   "metadata": {},
   "outputs": [],
   "source": [
    "# librerías de optimización\n",
    "\n",
    "import gurobipy as grb\n",
    "import numpy as np\n",
    "import pandas as pd"
   ]
  },
  {
   "cell_type": "markdown",
   "metadata": {},
   "source": [
    "### Ejemplo\n",
    "Suponga que tiene el siguiente portafolio de proyectos, con sus respectivos costos y NPV's.\n",
    "\n",
    "***\"Sí solamente tengo 260M de presupuesto, qué proyectos debería seleccionar para maximizar el NPV total?\"***"
   ]
  },
  {
   "cell_type": "code",
   "execution_count": 2,
   "metadata": {},
   "outputs": [
    {
     "data": {
      "text/html": [
       "<div>\n",
       "<style scoped>\n",
       "    .dataframe tbody tr th:only-of-type {\n",
       "        vertical-align: middle;\n",
       "    }\n",
       "\n",
       "    .dataframe tbody tr th {\n",
       "        vertical-align: top;\n",
       "    }\n",
       "\n",
       "    .dataframe thead th {\n",
       "        text-align: right;\n",
       "    }\n",
       "</style>\n",
       "<table border=\"1\" class=\"dataframe\">\n",
       "  <thead>\n",
       "    <tr style=\"text-align: right;\">\n",
       "      <th></th>\n",
       "      <th>ID</th>\n",
       "      <th>NPV (MM USD)</th>\n",
       "      <th>COST (MM USD)</th>\n",
       "    </tr>\n",
       "  </thead>\n",
       "  <tbody>\n",
       "    <tr>\n",
       "      <th>0</th>\n",
       "      <td>1</td>\n",
       "      <td>100</td>\n",
       "      <td>80</td>\n",
       "    </tr>\n",
       "    <tr>\n",
       "      <th>1</th>\n",
       "      <td>2</td>\n",
       "      <td>50</td>\n",
       "      <td>45</td>\n",
       "    </tr>\n",
       "    <tr>\n",
       "      <th>2</th>\n",
       "      <td>3</td>\n",
       "      <td>175</td>\n",
       "      <td>150</td>\n",
       "    </tr>\n",
       "    <tr>\n",
       "      <th>3</th>\n",
       "      <td>4</td>\n",
       "      <td>100</td>\n",
       "      <td>80</td>\n",
       "    </tr>\n",
       "    <tr>\n",
       "      <th>4</th>\n",
       "      <td>5</td>\n",
       "      <td>110</td>\n",
       "      <td>100</td>\n",
       "    </tr>\n",
       "  </tbody>\n",
       "</table>\n",
       "</div>"
      ],
      "text/plain": [
       "   ID  NPV (MM USD)  COST (MM USD)\n",
       "0   1           100             80\n",
       "1   2            50             45\n",
       "2   3           175            150\n",
       "3   4           100             80\n",
       "4   5           110            100"
      ]
     },
     "execution_count": 2,
     "metadata": {},
     "output_type": "execute_result"
    }
   ],
   "source": [
    "df = pd.read_csv(r'capital.csv')\n",
    "df"
   ]
  },
  {
   "cell_type": "markdown",
   "metadata": {},
   "source": [
    "#### Parámetros del Problema de Optimización"
   ]
  },
  {
   "cell_type": "code",
   "execution_count": 3,
   "metadata": {},
   "outputs": [],
   "source": [
    "# proyectos\n",
    "Proyectos = np.array(df)\n",
    "\n",
    "# número de proyectos\n",
    "n = len(df['ID'])\n",
    "\n",
    "# lista de proyectos\n",
    "N = {i for i in range(1,n+1)}\n",
    "\n",
    "# parámetros\n",
    "NPV = {i:Proyectos[i-1,1] for i in N}\n",
    "COST = {i:Proyectos[i-1,2] for i in N}\n",
    "BUDGET = 260"
   ]
  },
  {
   "cell_type": "markdown",
   "metadata": {},
   "source": [
    "#### Definición del Modelo de Optimización"
   ]
  },
  {
   "cell_type": "code",
   "execution_count": 4,
   "metadata": {},
   "outputs": [
    {
     "name": "stdout",
     "output_type": "stream",
     "text": [
      "Set parameter Username\n"
     ]
    }
   ],
   "source": [
    "# modelo de optimización\n",
    "model = grb.Model(\"Seleccion de Inversiones\")\n",
    "\n",
    "# variables de decisión\n",
    "x = model.addVars(N, vtype = grb.GRB.BINARY)\n"
   ]
  },
  {
   "cell_type": "markdown",
   "metadata": {},
   "source": [
    "#### Función Objetivo"
   ]
  },
  {
   "cell_type": "code",
   "execution_count": 5,
   "metadata": {},
   "outputs": [],
   "source": [
    "# función objetivo\n",
    "model.setObjective(grb.quicksum(NPV[i]*x[i] for i in N), grb.GRB.MAXIMIZE)"
   ]
  },
  {
   "cell_type": "markdown",
   "metadata": {},
   "source": [
    "#### Restricciones\n",
    "Nota: La restricción asociada al tipo binario de la variable de selección $x_i$ se incluyó en la declaración de la variable como tipo GRB.BINARY"
   ]
  },
  {
   "cell_type": "code",
   "execution_count": 6,
   "metadata": {},
   "outputs": [],
   "source": [
    "# restricciones\n",
    "model.addConstr(grb.quicksum(COST[i]*x[i]for i in N)<=BUDGET)\n",
    "model.update()"
   ]
  },
  {
   "cell_type": "markdown",
   "metadata": {},
   "source": [
    "### Solución al Problema de Optimización de Programación Entera-Mixta (MIP)"
   ]
  },
  {
   "cell_type": "code",
   "execution_count": 7,
   "metadata": {},
   "outputs": [
    {
     "name": "stdout",
     "output_type": "stream",
     "text": [
      "Gurobi Optimizer version 10.0.2 build v10.0.2rc0 (mac64[arm])\n",
      "\n",
      "CPU model: Apple M2 Max\n",
      "Thread count: 12 physical cores, 12 logical processors, using up to 12 threads\n",
      "\n",
      "Optimize a model with 1 rows, 5 columns and 5 nonzeros\n",
      "Model fingerprint: 0x51d44574\n",
      "Variable types: 0 continuous, 5 integer (5 binary)\n",
      "Coefficient statistics:\n",
      "  Matrix range     [4e+01, 2e+02]\n",
      "  Objective range  [5e+01, 2e+02]\n",
      "  Bounds range     [1e+00, 1e+00]\n",
      "  RHS range        [3e+02, 3e+02]\n",
      "Found heuristic solution: objective 250.0000000\n",
      "Presolve removed 1 rows and 5 columns\n",
      "Presolve time: 0.00s\n",
      "Presolve: All rows and columns removed\n",
      "\n",
      "Explored 0 nodes (0 simplex iterations) in 0.02 seconds (0.00 work units)\n",
      "Thread count was 1 (of 12 available processors)\n",
      "\n",
      "Solution count 2: 310 250 \n",
      "\n",
      "Optimal solution found (tolerance 1.00e-04)\n",
      "Best objective 3.100000000000e+02, best bound 3.100000000000e+02, gap 0.0000%\n",
      "El valor optimo de la función objetivo es 310\n"
     ]
    }
   ],
   "source": [
    "# optimización\n",
    "model.optimize()\n",
    "\n",
    "if model.status != grb.GRB.status.OPTIMAL:\n",
    "    print(\"No se encontró una solución factible...\")\n",
    "else:\n",
    "    print(\"El valor optimo de la función objetivo es %g\"%model.objVal)\n",
    "    resultado_objetivo = model.objVal\n",
    "    resultado_seleccion_proyectos = [i for i in N if x[i].X >= 1]\n",
    "\n",
    "    df_salida = pd.DataFrame({\"valor función objetivo\": [resultado_objetivo],\n",
    "                              \"proyectos seleccionados\": [resultado_seleccion_proyectos]})"
   ]
  },
  {
   "cell_type": "code",
   "execution_count": 8,
   "metadata": {},
   "outputs": [
    {
     "data": {
      "text/html": [
       "<div>\n",
       "<style scoped>\n",
       "    .dataframe tbody tr th:only-of-type {\n",
       "        vertical-align: middle;\n",
       "    }\n",
       "\n",
       "    .dataframe tbody tr th {\n",
       "        vertical-align: top;\n",
       "    }\n",
       "\n",
       "    .dataframe thead th {\n",
       "        text-align: right;\n",
       "    }\n",
       "</style>\n",
       "<table border=\"1\" class=\"dataframe\">\n",
       "  <thead>\n",
       "    <tr style=\"text-align: right;\">\n",
       "      <th></th>\n",
       "      <th>valor función objetivo</th>\n",
       "      <th>proyectos seleccionados</th>\n",
       "    </tr>\n",
       "  </thead>\n",
       "  <tbody>\n",
       "    <tr>\n",
       "      <th>0</th>\n",
       "      <td>310.0</td>\n",
       "      <td>[1, 4, 5]</td>\n",
       "    </tr>\n",
       "  </tbody>\n",
       "</table>\n",
       "</div>"
      ],
      "text/plain": [
       "   valor función objetivo proyectos seleccionados\n",
       "0                   310.0               [1, 4, 5]"
      ]
     },
     "execution_count": 8,
     "metadata": {},
     "output_type": "execute_result"
    }
   ],
   "source": [
    "df_salida"
   ]
  },
  {
   "cell_type": "markdown",
   "metadata": {},
   "source": [
    "Por lo tanto, dados los paarametros de NPV y de COSTO para cada proyecto, si se cuenta con un presupuesto de 260MM, se deberían seleccionar los proyectos *1, 4 y 5*. Esta selección maximiza el NPV total a un valor de 310 MM."
   ]
  }
 ],
 "metadata": {
  "kernelspec": {
   "display_name": "PantaleonDS",
   "language": "python",
   "name": "python3"
  },
  "language_info": {
   "codemirror_mode": {
    "name": "ipython",
    "version": 3
   },
   "file_extension": ".py",
   "mimetype": "text/x-python",
   "name": "python",
   "nbconvert_exporter": "python",
   "pygments_lexer": "ipython3",
   "version": "3.9.16"
  },
  "orig_nbformat": 4
 },
 "nbformat": 4,
 "nbformat_minor": 2
}

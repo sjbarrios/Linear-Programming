{
 "cells": [
  {
   "cell_type": "markdown",
   "metadata": {},
   "source": [
    "## Optimización del Mix de Producción Industrial\n",
    "\n",
    "#### Descripción del Problema:\n",
    "Se necesita decidir sobre las cantidades a producir de las distintas calidades de azúcar, con el objetivo de maximizar el *beneficio económico*.\n",
    "\n",
    "El beneficio económico depende de los costos de producción asociados, así como el precio de venta. Así mismo, las capacidades instaladas de la fábrica de azúcar y el azúcar proyectado disponible para producción. Adicionalmente, el nivel de producción puede verse comprometido por el presupuesto asignado para cubrir los costos de producción.\n",
    "Esta complejidad es aún mayor cuando se introducen restricciones de almacenamiento (bodegas) y demanda cuando no es posible vender toda el azúcar producida.\n",
    "\n",
    "Este notebook provee una abstracción matemática del objetivo, así como de las restricciones para solucionarlo por medio de *Optimización con Programación Lineal*."
   ]
  },
  {
   "cell_type": "markdown",
   "metadata": {},
   "source": [
    "### Formulación del Problema de Optimización\n",
    "\n",
    "#### Conjuntos y Notaciones:\n",
    "\n",
    "- Sea $t$ el número de diferentes tipos o calidades de azúcar que es posible producir en la fábrica.\n",
    "- Sea $T = \\{1,...,t\\}$ el conjunto de calidades de azúcar.\n",
    "\n",
    "#### Parámetros\n",
    "- Sea $PRICE_i$ el Precio de Venta ($/t) de la calidad de azúcar $i$.\n",
    "- Sea $COST_i$ el Costo de Producción ($/t) asociado a la calidad de azúcar $i$.\n",
    "- Sea $CAPACITY_i$ la Capacidad de Producción (t) en la fábrica de la calidad de azúcar $i$.\n",
    "- Sea $RECOVERY$ el % de Recuperación Global de la fábrica.\n",
    "- Sea $CORE$ el rendimiento de azúcar esperado (kg Azúcar / t de Caña) de la caña que ingresa a la fábrica.\n",
    "- Sea $CAÑA$ la cantidad de caña total (t) disponible para molienda.\n",
    "- Sea $BUDGET$ el presupuesto total disponible.\n",
    "\n",
    "#### Variables de Decisión\n",
    "- Sea $x_i \\in \\mathbb{R}^+$, la cantidad de azúcar a producir de la calidad $i$.\n",
    "\n",
    "#### Función Objetivo\n",
    "La función objetivo se define como la suma de los beneficios económicos de las calidades de azúcar seleccionadas para producir. Buscamos maximizar esta cantidad sujeta a la restricción de presupuesto, azúcar disponible y capacidades de producción en la fábrica.\n",
    "\n",
    "$\\begin{align}\n",
    "\\max\\limits_{\\forall i \\in T} \\sum_{i=1}^{t} (PRICE_i - COST_i) x_i\n",
    "\\end{align}$\n",
    "\n",
    "Sujeta a:\n",
    "\n",
    "$\\begin{align}\n",
    "\\sum_{i=1}^{t} COST_i x_i \\leq BUDGET, \\forall i \\in T \\\\\n",
    "\\sum_{i=1}^{t} x_i \\leq \\dfrac{CAÑA * CORE * RECOVERY}{1000}, \\forall i \\in T \\\\\n",
    "x_i \\leq CAPACITY_i, \\forall i \\in T \\\\\n",
    "x_i \\in \\mathbb{R}^+, \\forall i \\in T\n",
    "\\end{align}$\n"
   ]
  },
  {
   "cell_type": "code",
   "execution_count": 1,
   "metadata": {},
   "outputs": [],
   "source": [
    "# librerías de optimización\n",
    "from gurobipy import *\n",
    "import pandas as pd"
   ]
  },
  {
   "cell_type": "markdown",
   "metadata": {},
   "source": [
    "### Ejemplo\n",
    "Suponga que se tienen los siguientes datos de producción en la fábrica de Pantaleón, con sus respectivos precios y costos.\n",
    "\n",
    "***\"Qué calidades y qué cantidades de azúcar debería producir para maximizar el Beneficio Económico total?\"***"
   ]
  },
  {
   "cell_type": "code",
   "execution_count": 2,
   "metadata": {},
   "outputs": [
    {
     "data": {
      "text/html": [
       "<div>\n",
       "<style scoped>\n",
       "    .dataframe tbody tr th:only-of-type {\n",
       "        vertical-align: middle;\n",
       "    }\n",
       "\n",
       "    .dataframe tbody tr th {\n",
       "        vertical-align: top;\n",
       "    }\n",
       "\n",
       "    .dataframe thead th {\n",
       "        text-align: right;\n",
       "    }\n",
       "</style>\n",
       "<table border=\"1\" class=\"dataframe\">\n",
       "  <thead>\n",
       "    <tr style=\"text-align: right;\">\n",
       "      <th></th>\n",
       "      <th>Tipo Azucar</th>\n",
       "      <th>Precio ($/t)</th>\n",
       "      <th>Costo ($/t)</th>\n",
       "      <th>Capacidad (t/sem)</th>\n",
       "      <th>Revenue ($/t)</th>\n",
       "    </tr>\n",
       "  </thead>\n",
       "  <tbody>\n",
       "    <tr>\n",
       "      <th>0</th>\n",
       "      <td>Blanco</td>\n",
       "      <td>395.69</td>\n",
       "      <td>37.73</td>\n",
       "      <td>9800</td>\n",
       "      <td>357.96</td>\n",
       "    </tr>\n",
       "    <tr>\n",
       "      <th>1</th>\n",
       "      <td>Moreno</td>\n",
       "      <td>395.69</td>\n",
       "      <td>38.86</td>\n",
       "      <td>5900</td>\n",
       "      <td>356.83</td>\n",
       "    </tr>\n",
       "    <tr>\n",
       "      <th>2</th>\n",
       "      <td>Crudo</td>\n",
       "      <td>343.09</td>\n",
       "      <td>28.94</td>\n",
       "      <td>5600</td>\n",
       "      <td>314.15</td>\n",
       "    </tr>\n",
       "    <tr>\n",
       "      <th>3</th>\n",
       "      <td>HTM</td>\n",
       "      <td>415.58</td>\n",
       "      <td>27.40</td>\n",
       "      <td>1800</td>\n",
       "      <td>388.18</td>\n",
       "    </tr>\n",
       "    <tr>\n",
       "      <th>4</th>\n",
       "      <td>Refino</td>\n",
       "      <td>420.00</td>\n",
       "      <td>60.61</td>\n",
       "      <td>6400</td>\n",
       "      <td>359.39</td>\n",
       "    </tr>\n",
       "    <tr>\n",
       "      <th>5</th>\n",
       "      <td>Miel B</td>\n",
       "      <td>300.00</td>\n",
       "      <td>28.94</td>\n",
       "      <td>300</td>\n",
       "      <td>271.06</td>\n",
       "    </tr>\n",
       "  </tbody>\n",
       "</table>\n",
       "</div>"
      ],
      "text/plain": [
       "  Tipo Azucar  Precio ($/t)  Costo ($/t)  Capacidad (t/sem)  Revenue ($/t)\n",
       "0      Blanco        395.69        37.73               9800         357.96\n",
       "1      Moreno        395.69        38.86               5900         356.83\n",
       "2       Crudo        343.09        28.94               5600         314.15\n",
       "3         HTM        415.58        27.40               1800         388.18\n",
       "4      Refino        420.00        60.61               6400         359.39\n",
       "5      Miel B        300.00        28.94                300         271.06"
      ]
     },
     "execution_count": 2,
     "metadata": {},
     "output_type": "execute_result"
    }
   ],
   "source": [
    "df = pd.read_csv('datos_azucar.csv')\n",
    "df['Revenue ($/t)'] = df['Precio ($/t)'] - df['Costo ($/t)']\n",
    "df"
   ]
  },
  {
   "cell_type": "markdown",
   "metadata": {},
   "source": [
    "#### Parámetros del Problema de Optimización"
   ]
  },
  {
   "cell_type": "code",
   "execution_count": 3,
   "metadata": {},
   "outputs": [],
   "source": [
    "# products data\n",
    "tiposAzucar, precio, costo, capacidad, revenue = multidict({\n",
    "    'Blanco': df.iloc[0,1:].values,\n",
    "    'Moreno': df.iloc[1,1:].values,\n",
    "    'Crudo': df.iloc[2,1:].values,\n",
    "    'HTM': df.iloc[3,1:].values,\n",
    "    'Refino': df.iloc[4,1:].values,\n",
    "    'MielB': df.iloc[5,1:].values,\n",
    "})\n",
    "\n",
    "# sugar available\n",
    "core_sampler = 110.00\n",
    "total_caña = 205000.00\n",
    "recuperacion = 0.82\n",
    "\n",
    "# budget available (expressed as a fraction of the cost needed to exploit all the capacity)\n",
    "budget = 1206998.0*0.75"
   ]
  },
  {
   "cell_type": "markdown",
   "metadata": {},
   "source": [
    "#### Definición del Modelo de Optimización"
   ]
  },
  {
   "cell_type": "code",
   "execution_count": 4,
   "metadata": {},
   "outputs": [
    {
     "name": "stdout",
     "output_type": "stream",
     "text": [
      "Set parameter Username\n"
     ]
    }
   ],
   "source": [
    "# create factory new model\n",
    "f = Model(\"FactoryPSA\")\n",
    "\n",
    "# create decision variables for the products to make\n",
    "cantidad = f.addVars(tiposAzucar, name=\"cantidad\")"
   ]
  },
  {
   "cell_type": "markdown",
   "metadata": {},
   "source": [
    "#### Restricciones al Problema de Optimización\n"
   ]
  },
  {
   "cell_type": "code",
   "execution_count": 5,
   "metadata": {},
   "outputs": [],
   "source": [
    "# capacity constraints\n",
    "cap_res = f.addConstrs(((cantidad[t] <= capacidad[t]) for t in tiposAzucar), name='C')\n",
    "\n",
    "# total sugar available constraint\n",
    "tot_res = f.addConstr((sum(cantidad[t] for t in tiposAzucar) <= core_sampler*total_caña*recuperacion/1000), name='T')\n",
    "\n",
    "# budget constraint\n",
    "budget_res = f.addConstr((sum(costo[t]*cantidad[t] for t in tiposAzucar) <= budget), name='B')"
   ]
  },
  {
   "cell_type": "markdown",
   "metadata": {},
   "source": [
    "#### Función Objetivo\n",
    "Maximizar el Beneficio económico basado en precio de venta y costos de producción."
   ]
  },
  {
   "cell_type": "code",
   "execution_count": 6,
   "metadata": {},
   "outputs": [],
   "source": [
    "# the objective is to maximize total profit\n",
    "f.setObjective(cantidad.prod(revenue),GRB.MAXIMIZE)"
   ]
  },
  {
   "cell_type": "markdown",
   "metadata": {},
   "source": [
    "#### Optimización"
   ]
  },
  {
   "cell_type": "code",
   "execution_count": 7,
   "metadata": {},
   "outputs": [
    {
     "name": "stdout",
     "output_type": "stream",
     "text": [
      "Gurobi Optimizer version 10.0.2 build v10.0.2rc0 (mac64[arm])\n",
      "\n",
      "CPU model: Apple M2 Max\n",
      "Thread count: 12 physical cores, 12 logical processors, using up to 12 threads\n",
      "\n",
      "Optimize a model with 8 rows, 6 columns and 18 nonzeros\n",
      "Model fingerprint: 0x55945743\n",
      "Coefficient statistics:\n",
      "  Matrix range     [1e+00, 6e+01]\n",
      "  Objective range  [3e+02, 4e+02]\n",
      "  Bounds range     [0e+00, 0e+00]\n",
      "  RHS range        [3e+02, 9e+05]\n",
      "Presolve removed 6 rows and 0 columns\n",
      "Presolve time: 0.00s\n",
      "Presolved: 2 rows, 6 columns, 12 nonzeros\n",
      "\n",
      "Iteration    Objective       Primal Inf.    Dual Inf.      Time\n",
      "       0    7.1778364e+06   1.669100e+04   0.000000e+00      0s\n",
      "       1    6.6820315e+06   0.000000e+00   0.000000e+00      0s\n",
      "\n",
      "Solved in 1 iterations and 0.00 seconds (0.00 work units)\n",
      "Optimal objective  6.682031530e+06\n"
     ]
    }
   ],
   "source": [
    "f.optimize()"
   ]
  },
  {
   "cell_type": "code",
   "execution_count": 8,
   "metadata": {},
   "outputs": [
    {
     "name": "stdout",
     "output_type": "stream",
     "text": [
      "cantidad[Blanco] 9800.0\n",
      "cantidad[Moreno] 491.0\n",
      "cantidad[HTM] 1800.0\n",
      "cantidad[Refino] 6400.0\n",
      "total revenue ($) 6682031.53\n"
     ]
    }
   ],
   "source": [
    "# display optimal values of decision variables\n",
    "for v in f.getVars():\n",
    "    if(abs(v.x)>1e-6):\n",
    "        print(v.varName, round(v.x,2))\n",
    "\n",
    "# display optimal total profit value\n",
    "print('total revenue ($)', round(f.objVal,2))"
   ]
  },
  {
   "cell_type": "markdown",
   "metadata": {},
   "source": [
    "Restricciones adicionales pueden incluirse, tales como:\n",
    "- *Bodegas.* Si alguna bodega no tiene espacio para recibir la producción, esto es una limitante sobre la cantidad a producir de una calidad de azúcar específica.\n",
    "- *Transporte.* Idem anterior.\n",
    "- *Demanda.* El equipo comercial puede conocer si las cantidades a producir pueden ser vendidas. Esto es una limitante sobre la cantidad a producir de una calidad de azúcar específica."
   ]
  }
 ],
 "metadata": {
  "kernelspec": {
   "display_name": "PantaleonDS",
   "language": "python",
   "name": "python3"
  },
  "language_info": {
   "codemirror_mode": {
    "name": "ipython",
    "version": 3
   },
   "file_extension": ".py",
   "mimetype": "text/x-python",
   "name": "python",
   "nbconvert_exporter": "python",
   "pygments_lexer": "ipython3",
   "version": "3.9.16"
  },
  "orig_nbformat": 4
 },
 "nbformat": 4,
 "nbformat_minor": 2
}
